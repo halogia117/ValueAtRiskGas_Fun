{
 "cells": [
  {
   "cell_type": "markdown",
   "id": "833b6d64",
   "metadata": {},
   "source": [
    "# PHT  - Value At Risk"
   ]
  },
  {
   "cell_type": "markdown",
   "id": "bc50217c",
   "metadata": {},
   "source": [
    "***"
   ]
  },
  {
   "cell_type": "markdown",
   "id": "38e75721",
   "metadata": {},
   "source": [
    "## 1 Chuẩn bị dữ liệu : "
   ]
  },
  {
   "cell_type": "markdown",
   "id": "bd40cbdc",
   "metadata": {},
   "source": [
    "### 1.1 Import Data :"
   ]
  },
  {
   "cell_type": "markdown",
   "id": "1415f97d",
   "metadata": {},
   "source": [
    "\n",
    "~~~\n",
    "install.packages('quantmod')\n",
    "install.packages('fBasics')\n",
    "install.packages('tseries')\n",
    "install.packages('anytime')\n",
    "install.packages('fGarch')\n",
    "install.packages('rugarch')\n",
    "install.packages('Rcpp')\n",
    "install.packages('devtools')\n",
    "install.packages('vctrs')\n",
    "~~~"
   ]
  },
  {
   "cell_type": "markdown",
   "id": "18d56792",
   "metadata": {},
   "source": [
    "```{r}\n",
    "require(quantmod)\n",
    "library(tseries)\n",
    "library(anytime)\n",
    "library(fBasics)\n",
    "library(rugarch)\n",
    "library(fGarch)\n",
    "library(Rcpp)\n",
    "library(ggplot2)\n",
    "```"
   ]
  },
  {
   "cell_type": "code",
   "execution_count": 1,
   "id": "5eac06a6",
   "metadata": {},
   "outputs": [
    {
     "name": "stderr",
     "output_type": "stream",
     "text": [
      "Loading required package: quantmod\n",
      "\n",
      "Loading required package: xts\n",
      "\n",
      "Loading required package: zoo\n",
      "\n",
      "\n",
      "Attaching package: 'zoo'\n",
      "\n",
      "\n",
      "The following objects are masked from 'package:base':\n",
      "\n",
      "    as.Date, as.Date.numeric\n",
      "\n",
      "\n",
      "Loading required package: TTR\n",
      "\n",
      "Registered S3 method overwritten by 'quantmod':\n",
      "  method            from\n",
      "  as.zoo.data.frame zoo \n",
      "\n",
      "Loading required package: timeDate\n",
      "\n",
      "Loading required package: timeSeries\n",
      "\n",
      "\n",
      "Attaching package: 'timeSeries'\n",
      "\n",
      "\n",
      "The following object is masked from 'package:zoo':\n",
      "\n",
      "    time<-\n",
      "\n",
      "\n",
      "\n",
      "Attaching package: 'fBasics'\n",
      "\n",
      "\n",
      "The following object is masked from 'package:TTR':\n",
      "\n",
      "    volatility\n",
      "\n",
      "\n",
      "Loading required package: parallel\n",
      "\n",
      "\n",
      "Attaching package: 'rugarch'\n",
      "\n",
      "\n",
      "The following object is masked from 'package:stats':\n",
      "\n",
      "    sigma\n",
      "\n",
      "\n"
     ]
    }
   ],
   "source": [
    "require(quantmod)\n",
    "library(tseries)\n",
    "library(anytime)\n",
    "library(fBasics)\n",
    "library(rugarch)\n",
    "library(fGarch)\n",
    "library(Rcpp)\n",
    "library(ggplot2)"
   ]
  },
  {
   "cell_type": "markdown",
   "id": "633e232c",
   "metadata": {},
   "source": [
    "### 1.2 Import data:"
   ]
  },
  {
   "cell_type": "code",
   "execution_count": 13,
   "id": "b9ed6564",
   "metadata": {},
   "outputs": [],
   "source": [
    "GAS <- read.csv(\"GAS.csv\", header=TRUE)"
   ]
  },
  {
   "cell_type": "code",
   "execution_count": 14,
   "id": "be193148",
   "metadata": {},
   "outputs": [
    {
     "data": {
      "text/html": [
       "<table class=\"dataframe\">\n",
       "<caption>A data.frame: 10 × 2</caption>\n",
       "<thead>\n",
       "\t<tr><th></th><th scope=col>Date</th><th scope=col>Close</th></tr>\n",
       "\t<tr><th></th><th scope=col>&lt;chr&gt;</th><th scope=col>&lt;dbl&gt;</th></tr>\n",
       "</thead>\n",
       "<tbody>\n",
       "\t<tr><th scope=row>2053</th><td>2021-09-20</td><td> 88800</td></tr>\n",
       "\t<tr><th scope=row>2054</th><td>2021-09-21</td><td> 88200</td></tr>\n",
       "\t<tr><th scope=row>2055</th><td>2021-09-22</td><td> 88400</td></tr>\n",
       "\t<tr><th scope=row>2056</th><td>2021-09-23</td><td> 90600</td></tr>\n",
       "\t<tr><th scope=row>2057</th><td>2021-09-24</td><td> 91000</td></tr>\n",
       "\t<tr><th scope=row>2058</th><td>2021-09-27</td><td> 90000</td></tr>\n",
       "\t<tr><th scope=row>2059</th><td>2021-09-28</td><td> 95100</td></tr>\n",
       "\t<tr><th scope=row>2060</th><td>2021-09-29</td><td> 96800</td></tr>\n",
       "\t<tr><th scope=row>2061</th><td>2021-09-30</td><td> 97000</td></tr>\n",
       "\t<tr><th scope=row>2062</th><td>2021-10-01</td><td>103500</td></tr>\n",
       "</tbody>\n",
       "</table>\n"
      ],
      "text/latex": [
       "A data.frame: 10 × 2\n",
       "\\begin{tabular}{r|ll}\n",
       "  & Date & Close\\\\\n",
       "  & <chr> & <dbl>\\\\\n",
       "\\hline\n",
       "\t2053 & 2021-09-20 &  88800\\\\\n",
       "\t2054 & 2021-09-21 &  88200\\\\\n",
       "\t2055 & 2021-09-22 &  88400\\\\\n",
       "\t2056 & 2021-09-23 &  90600\\\\\n",
       "\t2057 & 2021-09-24 &  91000\\\\\n",
       "\t2058 & 2021-09-27 &  90000\\\\\n",
       "\t2059 & 2021-09-28 &  95100\\\\\n",
       "\t2060 & 2021-09-29 &  96800\\\\\n",
       "\t2061 & 2021-09-30 &  97000\\\\\n",
       "\t2062 & 2021-10-01 & 103500\\\\\n",
       "\\end{tabular}\n"
      ],
      "text/markdown": [
       "\n",
       "A data.frame: 10 × 2\n",
       "\n",
       "| <!--/--> | Date &lt;chr&gt; | Close &lt;dbl&gt; |\n",
       "|---|---|---|\n",
       "| 2053 | 2021-09-20 |  88800 |\n",
       "| 2054 | 2021-09-21 |  88200 |\n",
       "| 2055 | 2021-09-22 |  88400 |\n",
       "| 2056 | 2021-09-23 |  90600 |\n",
       "| 2057 | 2021-09-24 |  91000 |\n",
       "| 2058 | 2021-09-27 |  90000 |\n",
       "| 2059 | 2021-09-28 |  95100 |\n",
       "| 2060 | 2021-09-29 |  96800 |\n",
       "| 2061 | 2021-09-30 |  97000 |\n",
       "| 2062 | 2021-10-01 | 103500 |\n",
       "\n"
      ],
      "text/plain": [
       "     Date       Close \n",
       "2053 2021-09-20  88800\n",
       "2054 2021-09-21  88200\n",
       "2055 2021-09-22  88400\n",
       "2056 2021-09-23  90600\n",
       "2057 2021-09-24  91000\n",
       "2058 2021-09-27  90000\n",
       "2059 2021-09-28  95100\n",
       "2060 2021-09-29  96800\n",
       "2061 2021-09-30  97000\n",
       "2062 2021-10-01 103500"
      ]
     },
     "metadata": {},
     "output_type": "display_data"
    }
   ],
   "source": [
    "tail(GAS, 10)"
   ]
  },
  {
   "cell_type": "markdown",
   "id": "bc4e3c0e",
   "metadata": {},
   "source": [
    "## 2 Định dạng Data :\n"
   ]
  },
  {
   "cell_type": "markdown",
   "id": "31aca95f",
   "metadata": {},
   "source": [
    "#### 2.1.1 Format Date Column:\n"
   ]
  },
  {
   "cell_type": "code",
   "execution_count": 15,
   "id": "0103e7bc",
   "metadata": {},
   "outputs": [
    {
     "data": {
      "text/html": [
       "<table class=\"dataframe\">\n",
       "<caption>A data.frame: 6 × 2</caption>\n",
       "<thead>\n",
       "\t<tr><th></th><th scope=col>Date</th><th scope=col>Close</th></tr>\n",
       "\t<tr><th></th><th scope=col>&lt;dttm&gt;</th><th scope=col>&lt;dbl&gt;</th></tr>\n",
       "</thead>\n",
       "<tbody>\n",
       "\t<tr><th scope=row>2057</th><td>2021-09-24</td><td> 91000</td></tr>\n",
       "\t<tr><th scope=row>2058</th><td>2021-09-27</td><td> 90000</td></tr>\n",
       "\t<tr><th scope=row>2059</th><td>2021-09-28</td><td> 95100</td></tr>\n",
       "\t<tr><th scope=row>2060</th><td>2021-09-29</td><td> 96800</td></tr>\n",
       "\t<tr><th scope=row>2061</th><td>2021-09-30</td><td> 97000</td></tr>\n",
       "\t<tr><th scope=row>2062</th><td>2021-10-01</td><td>103500</td></tr>\n",
       "</tbody>\n",
       "</table>\n"
      ],
      "text/latex": [
       "A data.frame: 6 × 2\n",
       "\\begin{tabular}{r|ll}\n",
       "  & Date & Close\\\\\n",
       "  & <dttm> & <dbl>\\\\\n",
       "\\hline\n",
       "\t2057 & 2021-09-24 &  91000\\\\\n",
       "\t2058 & 2021-09-27 &  90000\\\\\n",
       "\t2059 & 2021-09-28 &  95100\\\\\n",
       "\t2060 & 2021-09-29 &  96800\\\\\n",
       "\t2061 & 2021-09-30 &  97000\\\\\n",
       "\t2062 & 2021-10-01 & 103500\\\\\n",
       "\\end{tabular}\n"
      ],
      "text/markdown": [
       "\n",
       "A data.frame: 6 × 2\n",
       "\n",
       "| <!--/--> | Date &lt;dttm&gt; | Close &lt;dbl&gt; |\n",
       "|---|---|---|\n",
       "| 2057 | 2021-09-24 |  91000 |\n",
       "| 2058 | 2021-09-27 |  90000 |\n",
       "| 2059 | 2021-09-28 |  95100 |\n",
       "| 2060 | 2021-09-29 |  96800 |\n",
       "| 2061 | 2021-09-30 |  97000 |\n",
       "| 2062 | 2021-10-01 | 103500 |\n",
       "\n"
      ],
      "text/plain": [
       "     Date       Close \n",
       "2057 2021-09-24  91000\n",
       "2058 2021-09-27  90000\n",
       "2059 2021-09-28  95100\n",
       "2060 2021-09-29  96800\n",
       "2061 2021-09-30  97000\n",
       "2062 2021-10-01 103500"
      ]
     },
     "metadata": {},
     "output_type": "display_data"
    }
   ],
   "source": [
    "GAS$Date <- anytime(GAS$Date)\n",
    "tail(GAS)"
   ]
  },
  {
   "cell_type": "markdown",
   "id": "37eaab73",
   "metadata": {},
   "source": [
    "#### 2.1.2 Historical prices plot:"
   ]
  },
  {
   "cell_type": "code",
   "execution_count": 16,
   "id": "45c2fb52",
   "metadata": {},
   "outputs": [],
   "source": [
    "fig <- function(width, heigth){\n",
    "     options(repr.plot.width = width, repr.plot.height = heigth)\n",
    "}"
   ]
  },
  {
   "cell_type": "code",
   "execution_count": 17,
   "id": "6812f8f5",
   "metadata": {},
   "outputs": [
    {
     "data": {
      "image/png": "[encoded data removed]",
      "text/plain": [
       "plot without title"
      ]
     },
     "metadata": {
      "image/png": {
       "height": 360,
       "width": 1080
      }
     },
     "output_type": "display_data"
    }
   ],
   "source": [
    "fig(18,6)\n",
    "ggplot(GAS, aes(x=Date, y=Close)) + geom_area(alpha = 0.2, color = 'red', fill=\"red\") + \n",
    "    theme_light() + ggtitle(\"GAS historical close price\")"
   ]
  },
  {
   "cell_type": "markdown",
   "id": "1248adc0",
   "metadata": {},
   "source": [
    "## 3 Tính Return"
   ]
  },
  {
   "cell_type": "markdown",
   "id": "74e7cdd3",
   "metadata": {},
   "source": [
    "### 3.1 Log Return :"
   ]
  },
  {
   "cell_type": "code",
   "execution_count": 18,
   "id": "26c24c69",
   "metadata": {},
   "outputs": [],
   "source": [
    "GAS$log_R <- Delt(GAS$Close, type = 'log')"
   ]
  },
  {
   "cell_type": "code",
   "execution_count": 19,
   "id": "235f77f8",
   "metadata": {},
   "outputs": [
    {
     "data": {
      "text/html": [
       "<table class=\"dataframe\">\n",
       "<caption>A data.frame: 10 × 3</caption>\n",
       "<thead>\n",
       "\t<tr><th></th><th scope=col>Date</th><th scope=col>Close</th><th scope=col>log_R</th></tr>\n",
       "\t<tr><th></th><th scope=col>&lt;dttm&gt;</th><th scope=col>&lt;dbl&gt;</th><th scope=col>&lt;dbl[,1]&gt;</th></tr>\n",
       "</thead>\n",
       "<tbody>\n",
       "\t<tr><th scope=row>2053</th><td>2021-09-20</td><td> 88800</td><td>-0.034314379</td></tr>\n",
       "\t<tr><th scope=row>2054</th><td>2021-09-21</td><td> 88200</td><td>-0.006779687</td></tr>\n",
       "\t<tr><th scope=row>2055</th><td>2021-09-22</td><td> 88400</td><td> 0.002265007</td></tr>\n",
       "\t<tr><th scope=row>2056</th><td>2021-09-23</td><td> 90600</td><td> 0.024582243</td></tr>\n",
       "\t<tr><th scope=row>2057</th><td>2021-09-24</td><td> 91000</td><td> 0.004405293</td></tr>\n",
       "\t<tr><th scope=row>2058</th><td>2021-09-27</td><td> 90000</td><td>-0.011049836</td></tr>\n",
       "\t<tr><th scope=row>2059</th><td>2021-09-28</td><td> 95100</td><td> 0.055119299</td></tr>\n",
       "\t<tr><th scope=row>2060</th><td>2021-09-29</td><td> 96800</td><td> 0.017718025</td></tr>\n",
       "\t<tr><th scope=row>2061</th><td>2021-09-30</td><td> 97000</td><td> 0.002063984</td></tr>\n",
       "\t<tr><th scope=row>2062</th><td>2021-10-01</td><td>103500</td><td> 0.064860634</td></tr>\n",
       "</tbody>\n",
       "</table>\n"
      ],
      "text/latex": [
       "A data.frame: 10 × 3\n",
       "\\begin{tabular}{r|lll}\n",
       "  & Date & Close & log\\_R\\\\\n",
       "  & <dttm> & <dbl> & <dbl{[},1{]}>\\\\\n",
       "\\hline\n",
       "\t2053 & 2021-09-20 &  88800 & -0.034314379\\\\\n",
       "\t2054 & 2021-09-21 &  88200 & -0.006779687\\\\\n",
       "\t2055 & 2021-09-22 &  88400 &  0.002265007\\\\\n",
       "\t2056 & 2021-09-23 &  90600 &  0.024582243\\\\\n",
       "\t2057 & 2021-09-24 &  91000 &  0.004405293\\\\\n",
       "\t2058 & 2021-09-27 &  90000 & -0.011049836\\\\\n",
       "\t2059 & 2021-09-28 &  95100 &  0.055119299\\\\\n",
       "\t2060 & 2021-09-29 &  96800 &  0.017718025\\\\\n",
       "\t2061 & 2021-09-30 &  97000 &  0.002063984\\\\\n",
       "\t2062 & 2021-10-01 & 103500 &  0.064860634\\\\\n",
       "\\end{tabular}\n"
      ],
      "text/markdown": [
       "\n",
       "A data.frame: 10 × 3\n",
       "\n",
       "| <!--/--> | Date &lt;dttm&gt; | Close &lt;dbl&gt; | log_R &lt;dbl[,1]&gt; |\n",
       "|---|---|---|---|\n",
       "| 2053 | 2021-09-20 |  88800 | -0.034314379 |\n",
       "| 2054 | 2021-09-21 |  88200 | -0.006779687 |\n",
       "| 2055 | 2021-09-22 |  88400 |  0.002265007 |\n",
       "| 2056 | 2021-09-23 |  90600 |  0.024582243 |\n",
       "| 2057 | 2021-09-24 |  91000 |  0.004405293 |\n",
       "| 2058 | 2021-09-27 |  90000 | -0.011049836 |\n",
       "| 2059 | 2021-09-28 |  95100 |  0.055119299 |\n",
       "| 2060 | 2021-09-29 |  96800 |  0.017718025 |\n",
       "| 2061 | 2021-09-30 |  97000 |  0.002063984 |\n",
       "| 2062 | 2021-10-01 | 103500 |  0.064860634 |\n",
       "\n"
      ],
      "text/plain": [
       "     Date       Close  log_R       \n",
       "2053 2021-09-20  88800 -0.034314379\n",
       "2054 2021-09-21  88200 -0.006779687\n",
       "2055 2021-09-22  88400  0.002265007\n",
       "2056 2021-09-23  90600  0.024582243\n",
       "2057 2021-09-24  91000  0.004405293\n",
       "2058 2021-09-27  90000 -0.011049836\n",
       "2059 2021-09-28  95100  0.055119299\n",
       "2060 2021-09-29  96800  0.017718025\n",
       "2061 2021-09-30  97000  0.002063984\n",
       "2062 2021-10-01 103500  0.064860634"
      ]
     },
     "metadata": {},
     "output_type": "display_data"
    }
   ],
   "source": [
    "tail(GAS, 10)"
   ]
  },
  {
   "cell_type": "markdown",
   "id": "4925044c",
   "metadata": {},
   "source": [
    "### 3.2 Normal Return :"
   ]
  },
  {
   "cell_type": "code",
   "execution_count": 20,
   "id": "4f89006e",
   "metadata": {},
   "outputs": [],
   "source": [
    "GAS$return_norm <- Delt(GAS$Close, type = 'arithmetic')"
   ]
  },
  {
   "cell_type": "code",
   "execution_count": 21,
   "id": "f5fc0347",
   "metadata": {},
   "outputs": [
    {
     "data": {
      "text/html": [
       "<table class=\"dataframe\">\n",
       "<caption>A data.frame: 10 × 4</caption>\n",
       "<thead>\n",
       "\t<tr><th></th><th scope=col>Date</th><th scope=col>Close</th><th scope=col>log_R</th><th scope=col>return_norm</th></tr>\n",
       "\t<tr><th></th><th scope=col>&lt;dttm&gt;</th><th scope=col>&lt;dbl&gt;</th><th scope=col>&lt;dbl[,1]&gt;</th><th scope=col>&lt;dbl[,1]&gt;</th></tr>\n",
       "</thead>\n",
       "<tbody>\n",
       "\t<tr><th scope=row>1</th><td>2013-07-01</td><td>59500</td><td>          NA</td><td>          NA</td></tr>\n",
       "\t<tr><th scope=row>2</th><td>2013-07-02</td><td>60500</td><td> 0.016667052</td><td> 0.016806723</td></tr>\n",
       "\t<tr><th scope=row>3</th><td>2013-07-03</td><td>60000</td><td>-0.008298803</td><td>-0.008264463</td></tr>\n",
       "\t<tr><th scope=row>4</th><td>2013-07-04</td><td>60000</td><td> 0.000000000</td><td> 0.000000000</td></tr>\n",
       "\t<tr><th scope=row>5</th><td>2013-07-05</td><td>59000</td><td>-0.016807118</td><td>-0.016666667</td></tr>\n",
       "\t<tr><th scope=row>6</th><td>2013-07-08</td><td>58000</td><td>-0.017094433</td><td>-0.016949153</td></tr>\n",
       "\t<tr><th scope=row>7</th><td>2013-07-09</td><td>59000</td><td> 0.017094433</td><td> 0.017241379</td></tr>\n",
       "\t<tr><th scope=row>8</th><td>2013-07-10</td><td>60000</td><td> 0.016807118</td><td> 0.016949153</td></tr>\n",
       "\t<tr><th scope=row>9</th><td>2013-07-11</td><td>60000</td><td> 0.000000000</td><td> 0.000000000</td></tr>\n",
       "\t<tr><th scope=row>10</th><td>2013-07-12</td><td>63000</td><td> 0.048790164</td><td> 0.050000000</td></tr>\n",
       "</tbody>\n",
       "</table>\n"
      ],
      "text/latex": [
       "A data.frame: 10 × 4\n",
       "\\begin{tabular}{r|llll}\n",
       "  & Date & Close & log\\_R & return\\_norm\\\\\n",
       "  & <dttm> & <dbl> & <dbl{[},1{]}> & <dbl{[},1{]}>\\\\\n",
       "\\hline\n",
       "\t1 & 2013-07-01 & 59500 &           NA &           NA\\\\\n",
       "\t2 & 2013-07-02 & 60500 &  0.016667052 &  0.016806723\\\\\n",
       "\t3 & 2013-07-03 & 60000 & -0.008298803 & -0.008264463\\\\\n",
       "\t4 & 2013-07-04 & 60000 &  0.000000000 &  0.000000000\\\\\n",
       "\t5 & 2013-07-05 & 59000 & -0.016807118 & -0.016666667\\\\\n",
       "\t6 & 2013-07-08 & 58000 & -0.017094433 & -0.016949153\\\\\n",
       "\t7 & 2013-07-09 & 59000 &  0.017094433 &  0.017241379\\\\\n",
       "\t8 & 2013-07-10 & 60000 &  0.016807118 &  0.016949153\\\\\n",
       "\t9 & 2013-07-11 & 60000 &  0.000000000 &  0.000000000\\\\\n",
       "\t10 & 2013-07-12 & 63000 &  0.048790164 &  0.050000000\\\\\n",
       "\\end{tabular}\n"
      ],
      "text/markdown": [
       "\n",
       "A data.frame: 10 × 4\n",
       "\n",
       "| <!--/--> | Date &lt;dttm&gt; | Close &lt;dbl&gt; | log_R &lt;dbl[,1]&gt; | return_norm &lt;dbl[,1]&gt; |\n",
       "|---|---|---|---|---|\n",
       "| 1 | 2013-07-01 | 59500 |           NA |           NA |\n",
       "| 2 | 2013-07-02 | 60500 |  0.016667052 |  0.016806723 |\n",
       "| 3 | 2013-07-03 | 60000 | -0.008298803 | -0.008264463 |\n",
       "| 4 | 2013-07-04 | 60000 |  0.000000000 |  0.000000000 |\n",
       "| 5 | 2013-07-05 | 59000 | -0.016807118 | -0.016666667 |\n",
       "| 6 | 2013-07-08 | 58000 | -0.017094433 | -0.016949153 |\n",
       "| 7 | 2013-07-09 | 59000 |  0.017094433 |  0.017241379 |\n",
       "| 8 | 2013-07-10 | 60000 |  0.016807118 |  0.016949153 |\n",
       "| 9 | 2013-07-11 | 60000 |  0.000000000 |  0.000000000 |\n",
       "| 10 | 2013-07-12 | 63000 |  0.048790164 |  0.050000000 |\n",
       "\n"
      ],
      "text/plain": [
       "   Date       Close log_R        return_norm \n",
       "1  2013-07-01 59500           NA           NA\n",
       "2  2013-07-02 60500  0.016667052  0.016806723\n",
       "3  2013-07-03 60000 -0.008298803 -0.008264463\n",
       "4  2013-07-04 60000  0.000000000  0.000000000\n",
       "5  2013-07-05 59000 -0.016807118 -0.016666667\n",
       "6  2013-07-08 58000 -0.017094433 -0.016949153\n",
       "7  2013-07-09 59000  0.017094433  0.017241379\n",
       "8  2013-07-10 60000  0.016807118  0.016949153\n",
       "9  2013-07-11 60000  0.000000000  0.000000000\n",
       "10 2013-07-12 63000  0.048790164  0.050000000"
      ]
     },
     "metadata": {},
     "output_type": "display_data"
    }
   ],
   "source": [
    "head(GAS, 10)"
   ]
  },
  {
   "cell_type": "markdown",
   "id": "eeaccce2",
   "metadata": {},
   "source": [
    "Xóa bỏ dòng đầu có NA"
   ]
  },
  {
   "cell_type": "code",
   "execution_count": 22,
   "id": "dba549cf",
   "metadata": {},
   "outputs": [],
   "source": [
    "GAS = GAS[-1, ]"
   ]
  },
  {
   "cell_type": "markdown",
   "id": "6bff418d",
   "metadata": {},
   "source": [
    "### 3.3 Visualize:"
   ]
  },
  {
   "cell_type": "markdown",
   "id": "06525403",
   "metadata": {},
   "source": [
    "* Log return :"
   ]
  },
  {
   "cell_type": "code",
   "execution_count": 23,
   "id": "e76457c3",
   "metadata": {},
   "outputs": [
    {
     "data": {
      "image/png": "[encoded data removed]",
      "text/plain": [
       "plot without title"
      ]
     },
     "metadata": {
      "image/png": {
       "height": 300,
       "width": 600
      }
     },
     "output_type": "display_data"
    }
   ],
   "source": [
    "fig(10,5)\n",
    "ggplot(GAS, aes(x=log_R)) + \n",
    " geom_histogram(aes(y=..density..), colour=\"black\", alpha=0.5, fill='#FF6666', bins = 82)+\n",
    " geom_density(alpha=.2, fill=\"#905cb8\") + theme_light()"
   ]
  },
  {
   "cell_type": "markdown",
   "id": "554df2d9",
   "metadata": {},
   "source": [
    "* Normal return :"
   ]
  },
  {
   "cell_type": "code",
   "execution_count": null,
   "id": "36cddb3a",
   "metadata": {},
   "outputs": [],
   "source": [
    "ggplot(GAS, aes(x=return_norm)) + \n",
    " geom_histogram(aes(y=..density..), colour=\"black\", alpha=0.5, fill='#FF6666', bins = 82)+\n",
    " geom_density(alpha=.2, fill=\"#905cb8\") + theme_light()"
   ]
  },
  {
   "cell_type": "markdown",
   "id": "bb05927a",
   "metadata": {},
   "source": [
    "* line plot"
   ]
  },
  {
   "cell_type": "code",
   "execution_count": 24,
   "id": "32eb4ee0",
   "metadata": {},
   "outputs": [
    {
     "data": {
      "image/png": "[encoded data removed]",
      "text/plain": [
       "plot without title"
      ]
     },
     "metadata": {
      "image/png": {
       "height": 360,
       "width": 1080
      }
     },
     "output_type": "display_data"
    }
   ],
   "source": [
    "fig(18,6)\n",
    "t1 <- ggplot(GAS, aes(x=Date)) + geom_line(aes(y = log_R), color='#ff1f53', alpha = 1) + ggtitle(\"GAS Return\") + theme_light()\n",
    "t1"
   ]
  },
  {
   "cell_type": "markdown",
   "id": "df16f6b3",
   "metadata": {},
   "source": [
    "## 4 Basic Stat:"
   ]
  },
  {
   "cell_type": "markdown",
   "id": "01dd82d2",
   "metadata": {},
   "source": [
    "### 4.1 Thống kê mô tả Return :"
   ]
  },
  {
   "cell_type": "code",
   "execution_count": 25,
   "id": "d7930a1e",
   "metadata": {},
   "outputs": [
    {
     "data": {
      "text/html": [
       "<table class=\"dataframe\">\n",
       "<caption>A data.frame: 16 × 1</caption>\n",
       "<thead>\n",
       "\t<tr><th></th><th scope=col>Delt.1.log</th></tr>\n",
       "\t<tr><th></th><th scope=col>&lt;dbl&gt;</th></tr>\n",
       "</thead>\n",
       "<tbody>\n",
       "\t<tr><th scope=row>nobs</th><td>2061.000000</td></tr>\n",
       "\t<tr><th scope=row>NAs</th><td>   0.000000</td></tr>\n",
       "\t<tr><th scope=row>Minimum</th><td>  -0.085924</td></tr>\n",
       "\t<tr><th scope=row>Maximum</th><td>   0.067546</td></tr>\n",
       "\t<tr><th scope=row>1. Quartile</th><td>  -0.009993</td></tr>\n",
       "\t<tr><th scope=row>3. Quartile</th><td>   0.011050</td></tr>\n",
       "\t<tr><th scope=row>Mean</th><td>   0.000269</td></tr>\n",
       "\t<tr><th scope=row>Median</th><td>   0.000000</td></tr>\n",
       "\t<tr><th scope=row>Sum</th><td>   0.553595</td></tr>\n",
       "\t<tr><th scope=row>SE Mean</th><td>   0.000485</td></tr>\n",
       "\t<tr><th scope=row>LCL Mean</th><td>  -0.000683</td></tr>\n",
       "\t<tr><th scope=row>UCL Mean</th><td>   0.001220</td></tr>\n",
       "\t<tr><th scope=row>Variance</th><td>   0.000485</td></tr>\n",
       "\t<tr><th scope=row>Stdev</th><td>   0.022034</td></tr>\n",
       "\t<tr><th scope=row>Skewness</th><td>  -0.146281</td></tr>\n",
       "\t<tr><th scope=row>Kurtosis</th><td>   2.083886</td></tr>\n",
       "</tbody>\n",
       "</table>\n"
      ],
      "text/latex": [
       "A data.frame: 16 × 1\n",
       "\\begin{tabular}{r|l}\n",
       "  & Delt.1.log\\\\\n",
       "  & <dbl>\\\\\n",
       "\\hline\n",
       "\tnobs & 2061.000000\\\\\n",
       "\tNAs &    0.000000\\\\\n",
       "\tMinimum &   -0.085924\\\\\n",
       "\tMaximum &    0.067546\\\\\n",
       "\t1. Quartile &   -0.009993\\\\\n",
       "\t3. Quartile &    0.011050\\\\\n",
       "\tMean &    0.000269\\\\\n",
       "\tMedian &    0.000000\\\\\n",
       "\tSum &    0.553595\\\\\n",
       "\tSE Mean &    0.000485\\\\\n",
       "\tLCL Mean &   -0.000683\\\\\n",
       "\tUCL Mean &    0.001220\\\\\n",
       "\tVariance &    0.000485\\\\\n",
       "\tStdev &    0.022034\\\\\n",
       "\tSkewness &   -0.146281\\\\\n",
       "\tKurtosis &    2.083886\\\\\n",
       "\\end{tabular}\n"
      ],
      "text/markdown": [
       "\n",
       "A data.frame: 16 × 1\n",
       "\n",
       "| <!--/--> | Delt.1.log &lt;dbl&gt; |\n",
       "|---|---|\n",
       "| nobs | 2061.000000 |\n",
       "| NAs |    0.000000 |\n",
       "| Minimum |   -0.085924 |\n",
       "| Maximum |    0.067546 |\n",
       "| 1. Quartile |   -0.009993 |\n",
       "| 3. Quartile |    0.011050 |\n",
       "| Mean |    0.000269 |\n",
       "| Median |    0.000000 |\n",
       "| Sum |    0.553595 |\n",
       "| SE Mean |    0.000485 |\n",
       "| LCL Mean |   -0.000683 |\n",
       "| UCL Mean |    0.001220 |\n",
       "| Variance |    0.000485 |\n",
       "| Stdev |    0.022034 |\n",
       "| Skewness |   -0.146281 |\n",
       "| Kurtosis |    2.083886 |\n",
       "\n"
      ],
      "text/plain": [
       "            Delt.1.log \n",
       "nobs        2061.000000\n",
       "NAs            0.000000\n",
       "Minimum       -0.085924\n",
       "Maximum        0.067546\n",
       "1. Quartile   -0.009993\n",
       "3. Quartile    0.011050\n",
       "Mean           0.000269\n",
       "Median         0.000000\n",
       "Sum            0.553595\n",
       "SE Mean        0.000485\n",
       "LCL Mean      -0.000683\n",
       "UCL Mean       0.001220\n",
       "Variance       0.000485\n",
       "Stdev          0.022034\n",
       "Skewness      -0.146281\n",
       "Kurtosis       2.083886"
      ]
     },
     "metadata": {},
     "output_type": "display_data"
    }
   ],
   "source": [
    "basicStats(GAS$log_R)"
   ]
  },
  {
   "cell_type": "markdown",
   "id": "69715dbb",
   "metadata": {},
   "source": [
    "### 4.2 hypothesis testing (Kiểm định giả thuyết thống kê):"
   ]
  },
  {
   "cell_type": "markdown",
   "id": "b14f8e4b",
   "metadata": {},
   "source": [
    "* normality test(kiểm định phân phối chuẩn với jaqua-bera) :"
   ]
  },
  {
   "cell_type": "markdown",
   "id": "6fcad2b9",
   "metadata": {},
   "source": [
    "$H_0$: Phân phối là chuẩn (skewness = 0, kurtosis = 3)\n",
    "\n",
    "$H_1$: Phân phối là không chuẩn (skewness # 0, kurtosis # 3)\n",
    "\n",
    "$P_{value} < 0.05$ bác bỏ $H_0$"
   ]
  },
  {
   "cell_type": "code",
   "execution_count": 26,
   "id": "aa2251a0",
   "metadata": {},
   "outputs": [
    {
     "name": "stderr",
     "output_type": "stream",
     "text": [
      "Warning message in if (class(x) == \"fREG\") x = residuals(x):\n",
      "\"the condition has length > 1 and only the first element will be used\"\n"
     ]
    },
    {
     "data": {
      "text/plain": [
       "\n",
       "Title:\n",
       " Jarque - Bera Normalality Test\n",
       "\n",
       "Test Results:\n",
       "  STATISTIC:\n",
       "    X-squared: 382.0491\n",
       "  P VALUE:\n",
       "    Asymptotic p Value: < 2.2e-16 \n",
       "\n",
       "Description:\n",
       " Mon Oct 04 05:47:48 2021 by user: HP\n"
      ]
     },
     "metadata": {},
     "output_type": "display_data"
    }
   ],
   "source": [
    "normalTest(GAS$log_R, method = 'jb')"
   ]
  },
  {
   "cell_type": "markdown",
   "id": "1fddacf6",
   "metadata": {},
   "source": [
    "$=>$ bác bỏ $H_0$ , phân phối của return không là phân bố chuẩn"
   ]
  },
  {
   "cell_type": "code",
   "execution_count": 27,
   "id": "e55fc669",
   "metadata": {},
   "outputs": [
    {
     "data": {
      "image/png": "[encoded data removed]",
      "text/plain": [
       "plot without title"
      ]
     },
     "metadata": {
      "image/png": {
       "height": 360,
       "width": 720
      }
     },
     "output_type": "display_data"
    }
   ],
   "source": [
    "fig(12, 6)\n",
    "ggplot(GAS, aes(sample=log_R)) + stat_qq() + geom_qq_line()"
   ]
  },
  {
   "cell_type": "markdown",
   "id": "33ef92d0",
   "metadata": {},
   "source": [
    "* Dickey-Fuller Test (kiểm định tính dừng )\n",
    "\n",
    "    + $H_0$ : The h0 for this test is that there is a unit root.\n",
    "\n",
    "    + $H_1$ : The time series is stationary (or trend-stationary)."
   ]
  },
  {
   "cell_type": "code",
   "execution_count": 31,
   "id": "0b6de363",
   "metadata": {},
   "outputs": [
    {
     "name": "stderr",
     "output_type": "stream",
     "text": [
      "Warning message in adf.test(GAS$log_R):\n",
      "\"p-value smaller than printed p-value\"\n"
     ]
    },
    {
     "data": {
      "text/plain": [
       "\n",
       "\tAugmented Dickey-Fuller Test\n",
       "\n",
       "data:  GAS$log_R\n",
       "Dickey-Fuller = -11.598, Lag order = 12, p-value = 0.01\n",
       "alternative hypothesis: stationary\n"
      ]
     },
     "metadata": {},
     "output_type": "display_data"
    }
   ],
   "source": [
    "adf.test(GAS$log_R)"
   ]
  },
  {
   "cell_type": "markdown",
   "id": "b71ad058",
   "metadata": {},
   "source": [
    "$=>$ bác bỏ h0 $->$ chuỗi dừng:"
   ]
  },
  {
   "cell_type": "markdown",
   "id": "1cd4cb03",
   "metadata": {},
   "source": [
    "* Biểu đồ acf:"
   ]
  },
  {
   "cell_type": "code",
   "execution_count": 32,
   "id": "3e3eda44",
   "metadata": {},
   "outputs": [
    {
     "data": {
      "image/png": "[encoded data removed]",
      "text/plain": [
       "Plot with title \"Delt.1.log\""
      ]
     },
     "metadata": {
      "image/png": {
       "height": 600,
       "width": 900
      }
     },
     "output_type": "display_data"
    }
   ],
   "source": [
    "fig(15,10)\n",
    "acf(GAS$log_R)"
   ]
  },
  {
   "cell_type": "markdown",
   "id": "bd9f9da3",
   "metadata": {},
   "source": [
    "* biểu đồ pacf:"
   ]
  },
  {
   "cell_type": "code",
   "execution_count": 33,
   "id": "40640194",
   "metadata": {},
   "outputs": [
    {
     "data": {
      "image/png": "[encoded data removed]",
      "text/plain": [
       "Plot with title \"Series  GAS$log_R\""
      ]
     },
     "metadata": {
      "image/png": {
       "height": 600,
       "width": 900
      }
     },
     "output_type": "display_data"
    }
   ],
   "source": [
    "pacf(GAS$log_R)"
   ]
  },
  {
   "cell_type": "markdown",
   "id": "a6f89bdd",
   "metadata": {},
   "source": [
    "* Box-Pierce test:\n",
    "\n",
    "$H_0$ : không có hiện tượng tự tương quan\n",
    "\n",
    "$H_1$ : ít nhất có tương quan của 1 ngày nào đó có ý nghĩa"
   ]
  },
  {
   "cell_type": "code",
   "execution_count": 34,
   "id": "642a4305",
   "metadata": {},
   "outputs": [
    {
     "data": {
      "text/plain": [
       "\n",
       "\tBox-Pierce test\n",
       "\n",
       "data:  GAS$log_R\n",
       "X-squared = 11.845, df = 1, p-value = 0.0005783\n"
      ]
     },
     "metadata": {},
     "output_type": "display_data"
    }
   ],
   "source": [
    "Box.test(GAS$log_R)"
   ]
  },
  {
   "cell_type": "markdown",
   "id": "d70da147",
   "metadata": {},
   "source": [
    "$=>$ bác bỏ $H_0$"
   ]
  },
  {
   "cell_type": "markdown",
   "id": "ca14c3a9",
   "metadata": {},
   "source": [
    "## 4. Time series model:"
   ]
  },
  {
   "cell_type": "markdown",
   "id": "4991d690",
   "metadata": {},
   "source": [
    "### 4.1 AR model:"
   ]
  },
  {
   "cell_type": "code",
   "execution_count": 35,
   "id": "813bf666",
   "metadata": {},
   "outputs": [],
   "source": [
    "model1 <- ar(x = GAS$log_R[,1] , method = c('mle'))"
   ]
  },
  {
   "cell_type": "code",
   "execution_count": 37,
   "id": "1671a02a",
   "metadata": {},
   "outputs": [
    {
     "data": {
      "text/plain": [
       "\n",
       "Call:\n",
       "ar(x = GAS$log_R[, 1], method = c(\"mle\"))\n",
       "\n",
       "Coefficients:\n",
       "     1  \n",
       "0.0761  \n",
       "\n",
       "Order selected 1  sigma^2 estimated as  0.0004824"
      ]
     },
     "metadata": {},
     "output_type": "display_data"
    }
   ],
   "source": [
    "model1"
   ]
  },
  {
   "cell_type": "code",
   "execution_count": 38,
   "id": "2cff3cb7",
   "metadata": {},
   "outputs": [
    {
     "name": "stdout",
     "output_type": "stream",
     "text": [
      "        0         1         2         3         4         5         6         7 \n",
      " 9.926020  0.000000  1.712982  3.500869  5.357667  7.032164  8.783210 10.387213 \n",
      "        8         9        10        11        12 \n",
      "12.095363 11.148179 12.400502 14.072090 13.043532 \n"
     ]
    }
   ],
   "source": [
    "print(model1$aic)"
   ]
  },
  {
   "cell_type": "markdown",
   "id": "de9e5a83",
   "metadata": {},
   "source": [
    "``` Biến lag 1 có AIC nhỏ nhất ```"
   ]
  },
  {
   "cell_type": "markdown",
   "id": "2abbaf30",
   "metadata": {},
   "source": [
    "```{r}\n",
    "\n",
    "model2 <- arima(x = GAS$log_R, order = c(p, d, q))\n",
    "p là bậc của ar\n",
    "q là bậc của ma\n",
    "d bậc sai phân ( đối với dữ liệu chưa có tính dừng ) \n",
    "\n",
    "```"
   ]
  },
  {
   "cell_type": "code",
   "execution_count": 39,
   "id": "3489d641",
   "metadata": {},
   "outputs": [],
   "source": [
    "model2 <- arima(x = GAS$log_R, c(1,0,0))"
   ]
  },
  {
   "cell_type": "markdown",
   "id": "4ff802d1",
   "metadata": {},
   "source": [
    "```\n",
    "intercept chính là mean\n",
    "t-stat = hệ số chia s.e\n",
    "```"
   ]
  },
  {
   "cell_type": "code",
   "execution_count": 40,
   "id": "f51e1110",
   "metadata": {},
   "outputs": [
    {
     "data": {
      "text/plain": [
       "\n",
       "Call:\n",
       "arima(x = GAS$log_R, order = c(1, 0, 0))\n",
       "\n",
       "Coefficients:\n",
       "         ar1  intercept\n",
       "      0.0761      3e-04\n",
       "s.e.  0.0220      5e-04\n",
       "\n",
       "sigma^2 estimated as 0.0004824:  log likelihood = 4945.12,  aic = -9884.24"
      ]
     },
     "metadata": {},
     "output_type": "display_data"
    }
   ],
   "source": [
    "model2"
   ]
  },
  {
   "cell_type": "code",
   "execution_count": 41,
   "id": "0d26f0db",
   "metadata": {},
   "outputs": [
    {
     "data": {
      "image/png": "[encoded data removed]",
      "text/plain": [
       "plot without title"
      ]
     },
     "metadata": {
      "image/png": {
       "height": 480,
       "width": 960
      }
     },
     "output_type": "display_data"
    }
   ],
   "source": [
    "fig(16,8)\n",
    "plot(model2$residuals)"
   ]
  },
  {
   "cell_type": "code",
   "execution_count": 42,
   "id": "b771e0b2",
   "metadata": {},
   "outputs": [
    {
     "data": {
      "image/png": "[encoded data removed]",
      "text/plain": [
       "plot without title"
      ]
     },
     "metadata": {
      "image/png": {
       "height": 480,
       "width": 960
      }
     },
     "output_type": "display_data"
    }
   ],
   "source": [
    "qqplot(model2$residuals, GAS$log_R)"
   ]
  },
  {
   "cell_type": "markdown",
   "id": "78f99e6f",
   "metadata": {},
   "source": [
    "* Kiểm định Box test cho phần dư"
   ]
  },
  {
   "cell_type": "code",
   "execution_count": 43,
   "id": "019be732",
   "metadata": {},
   "outputs": [
    {
     "data": {
      "text/plain": [
       "\n",
       "\tBox-Pierce test\n",
       "\n",
       "data:  model2$residuals\n",
       "X-squared = 0.0015941, df = 1, p-value = 0.9682\n"
      ]
     },
     "metadata": {},
     "output_type": "display_data"
    }
   ],
   "source": [
    "Box.test(model2$residuals, lag = 1)"
   ]
  },
  {
   "cell_type": "markdown",
   "id": "8200af7d",
   "metadata": {},
   "source": [
    "* dự báo:"
   ]
  },
  {
   "cell_type": "code",
   "execution_count": 44,
   "id": "f0f8658e",
   "metadata": {},
   "outputs": [
    {
     "data": {
      "text/html": [
       "<dl>\n",
       "\t<dt>$pred</dt>\n",
       "\t\t<dd>A Time Series:<br><style>\n",
       ".list-inline {list-style: none; margin:0; padding: 0}\n",
       ".list-inline>li {display: inline-block}\n",
       ".list-inline>li:not(:last-child)::after {content: \"\\00b7\"; padding: 0 .5ex}\n",
       "</style>\n",
       "<ol class=list-inline><li>0.00518428398488798</li><li>0.00064230951275217</li><li>0.000296619268116469</li><li>0.000270308740400073</li><li>0.000268306242847836</li></ol>\n",
       "</dd>\n",
       "\t<dt>$se</dt>\n",
       "\t\t<dd>A Time Series:<br><style>\n",
       ".list-inline {list-style: none; margin:0; padding: 0}\n",
       ".list-inline>li {display: inline-block}\n",
       ".list-inline>li:not(:last-child)::after {content: \"\\00b7\"; padding: 0 .5ex}\n",
       "</style>\n",
       "<ol class=list-inline><li>0.0219647022904293</li><li>0.0220282284523744</li><li>0.0220285959099392</li><li>0.0220285980385116</li><li>0.0220285980508419</li></ol>\n",
       "</dd>\n",
       "</dl>\n"
      ],
      "text/latex": [
       "\\begin{description}\n",
       "\\item[\\$pred] A Time Series:\\\\\\begin{enumerate*}\n",
       "\\item 0.00518428398488798\n",
       "\\item 0.00064230951275217\n",
       "\\item 0.000296619268116469\n",
       "\\item 0.000270308740400073\n",
       "\\item 0.000268306242847836\n",
       "\\end{enumerate*}\n",
       "\n",
       "\\item[\\$se] A Time Series:\\\\\\begin{enumerate*}\n",
       "\\item 0.0219647022904293\n",
       "\\item 0.0220282284523744\n",
       "\\item 0.0220285959099392\n",
       "\\item 0.0220285980385116\n",
       "\\item 0.0220285980508419\n",
       "\\end{enumerate*}\n",
       "\n",
       "\\end{description}\n"
      ],
      "text/markdown": [
       "$pred\n",
       ":   A Time Series:  \n",
       "1. 0.00518428398488798\n",
       "2. 0.00064230951275217\n",
       "3. 0.000296619268116469\n",
       "4. 0.000270308740400073\n",
       "5. 0.000268306242847836\n",
       "\n",
       "\n",
       "\n",
       "$se\n",
       ":   A Time Series:  \n",
       "1. 0.0219647022904293\n",
       "2. 0.0220282284523744\n",
       "3. 0.0220285959099392\n",
       "4. 0.0220285980385116\n",
       "5. 0.0220285980508419\n",
       "\n",
       "\n",
       "\n",
       "\n",
       "\n"
      ],
      "text/plain": [
       "$pred\n",
       "Time Series:\n",
       "Start = 2062 \n",
       "End = 2066 \n",
       "Frequency = 1 \n",
       "[1] 0.0051842840 0.0006423095 0.0002966193 0.0002703087 0.0002683062\n",
       "\n",
       "$se\n",
       "Time Series:\n",
       "Start = 2062 \n",
       "End = 2066 \n",
       "Frequency = 1 \n",
       "[1] 0.02196470 0.02202823 0.02202860 0.02202860 0.02202860\n"
      ]
     },
     "metadata": {},
     "output_type": "display_data"
    }
   ],
   "source": [
    "predict(model2, 5)"
   ]
  },
  {
   "cell_type": "markdown",
   "id": "8231106a",
   "metadata": {},
   "source": [
    "### 4.2 ARIMA model:"
   ]
  },
  {
   "cell_type": "code",
   "execution_count": 45,
   "id": "a69436f7",
   "metadata": {},
   "outputs": [],
   "source": [
    "model3 <- arima(x = GAS$log_R, c(1,0,1))"
   ]
  },
  {
   "cell_type": "code",
   "execution_count": 46,
   "id": "6a62eec3",
   "metadata": {},
   "outputs": [
    {
     "data": {
      "text/plain": [
       "\n",
       "Call:\n",
       "arima(x = GAS$log_R, order = c(1, 0, 1))\n",
       "\n",
       "Coefficients:\n",
       "         ar1      ma1  intercept\n",
       "      0.2062  -0.1307      3e-04\n",
       "s.e.  0.2903   0.2933      5e-04\n",
       "\n",
       "sigma^2 estimated as 0.0004824:  log likelihood = 4945.28,  aic = -9882.56"
      ]
     },
     "metadata": {},
     "output_type": "display_data"
    }
   ],
   "source": [
    "model3"
   ]
  },
  {
   "cell_type": "code",
   "execution_count": 47,
   "id": "c4765505",
   "metadata": {},
   "outputs": [
    {
     "data": {
      "image/png": "[encoded data removed]",
      "text/plain": [
       "plot without title"
      ]
     },
     "metadata": {
      "image/png": {
       "height": 480,
       "width": 960
      }
     },
     "output_type": "display_data"
    }
   ],
   "source": [
    "plot(model3$residuals)"
   ]
  },
  {
   "cell_type": "code",
   "execution_count": 48,
   "id": "a1c934cc",
   "metadata": {},
   "outputs": [
    {
     "data": {
      "image/png": "[encoded data removed]",
      "text/plain": [
       "plot without title"
      ]
     },
     "metadata": {
      "image/png": {
       "height": 480,
       "width": 960
      }
     },
     "output_type": "display_data"
    }
   ],
   "source": [
    "qqplot(model3$residuals, GAS$log_R)"
   ]
  },
  {
   "cell_type": "markdown",
   "id": "1bd3ab37",
   "metadata": {},
   "source": [
    "* Kiểm định Box test cho phần dư"
   ]
  },
  {
   "cell_type": "code",
   "execution_count": 49,
   "id": "2d8f7608",
   "metadata": {},
   "outputs": [
    {
     "data": {
      "text/plain": [
       "\n",
       "\tBox-Pierce test\n",
       "\n",
       "data:  model3$residuals\n",
       "X-squared = 5.2805, df = 10, p-value = 0.8717\n"
      ]
     },
     "metadata": {},
     "output_type": "display_data"
    }
   ],
   "source": [
    "Box.test(model3$residuals, lag = 10)"
   ]
  },
  {
   "cell_type": "markdown",
   "id": "75f3c374",
   "metadata": {},
   "source": [
    "* Dự báo"
   ]
  },
  {
   "cell_type": "code",
   "execution_count": 50,
   "id": "3e4a42b7",
   "metadata": {},
   "outputs": [
    {
     "data": {
      "text/html": [
       "<dl>\n",
       "\t<dt>$pred</dt>\n",
       "\t\t<dd>A Time Series:<br><style>\n",
       ".list-inline {list-style: none; margin:0; padding: 0}\n",
       ".list-inline>li {display: inline-block}\n",
       ".list-inline>li:not(:last-child)::after {content: \"\\00b7\"; padding: 0 .5ex}\n",
       "</style>\n",
       "<ol class=list-inline><li>0.00518900387921469</li><li>0.00127907260509142</li><li>0.00047286346663771</li><li>0.00030662699613299</li><li>0.000272349830559218</li></ol>\n",
       "</dd>\n",
       "\t<dt>$se</dt>\n",
       "\t\t<dd>A Time Series:<br><style>\n",
       ".list-inline {list-style: none; margin:0; padding: 0}\n",
       ".list-inline>li {display: inline-block}\n",
       ".list-inline>li:not(:last-child)::after {content: \"\\00b7\"; padding: 0 .5ex}\n",
       "</style>\n",
       "<ol class=list-inline><li>0.021962981190513</li><li>0.0220254683656817</li><li>0.0220281211713186</li><li>0.0220282339521662</li><li>0.0220282387471968</li></ol>\n",
       "</dd>\n",
       "</dl>\n"
      ],
      "text/latex": [
       "\\begin{description}\n",
       "\\item[\\$pred] A Time Series:\\\\\\begin{enumerate*}\n",
       "\\item 0.00518900387921469\n",
       "\\item 0.00127907260509142\n",
       "\\item 0.00047286346663771\n",
       "\\item 0.00030662699613299\n",
       "\\item 0.000272349830559218\n",
       "\\end{enumerate*}\n",
       "\n",
       "\\item[\\$se] A Time Series:\\\\\\begin{enumerate*}\n",
       "\\item 0.021962981190513\n",
       "\\item 0.0220254683656817\n",
       "\\item 0.0220281211713186\n",
       "\\item 0.0220282339521662\n",
       "\\item 0.0220282387471968\n",
       "\\end{enumerate*}\n",
       "\n",
       "\\end{description}\n"
      ],
      "text/markdown": [
       "$pred\n",
       ":   A Time Series:  \n",
       "1. 0.00518900387921469\n",
       "2. 0.00127907260509142\n",
       "3. 0.00047286346663771\n",
       "4. 0.00030662699613299\n",
       "5. 0.000272349830559218\n",
       "\n",
       "\n",
       "\n",
       "$se\n",
       ":   A Time Series:  \n",
       "1. 0.021962981190513\n",
       "2. 0.0220254683656817\n",
       "3. 0.0220281211713186\n",
       "4. 0.0220282339521662\n",
       "5. 0.0220282387471968\n",
       "\n",
       "\n",
       "\n",
       "\n",
       "\n"
      ],
      "text/plain": [
       "$pred\n",
       "Time Series:\n",
       "Start = 2062 \n",
       "End = 2066 \n",
       "Frequency = 1 \n",
       "[1] 0.0051890039 0.0012790726 0.0004728635 0.0003066270 0.0002723498\n",
       "\n",
       "$se\n",
       "Time Series:\n",
       "Start = 2062 \n",
       "End = 2066 \n",
       "Frequency = 1 \n",
       "[1] 0.02196298 0.02202547 0.02202812 0.02202823 0.02202824\n"
      ]
     },
     "metadata": {},
     "output_type": "display_data"
    }
   ],
   "source": [
    "predict(model3, 5)"
   ]
  },
  {
   "cell_type": "markdown",
   "id": "6c9c329d",
   "metadata": {},
   "source": [
    "### 4.3 Volatility và GARCH:"
   ]
  },
  {
   "cell_type": "code",
   "execution_count": 51,
   "id": "824d2acf",
   "metadata": {},
   "outputs": [
    {
     "name": "stderr",
     "output_type": "stream",
     "text": [
      "Warning message:\n",
      "\"Using formula(x) is deprecated when x is a character vector of length > 1.\n",
      "  Consider formula(paste(x, collapse = \" \")) instead.\"\n"
     ]
    }
   ],
   "source": [
    "model4 <- garchFit(~garch(1,0), data=GAS$log_R, trace = F)"
   ]
  },
  {
   "cell_type": "code",
   "execution_count": 52,
   "id": "f823ec6e",
   "metadata": {},
   "outputs": [
    {
     "name": "stdout",
     "output_type": "stream",
     "text": [
      "\n",
      "Title:\n",
      " GARCH Modelling \n",
      "\n",
      "Call:\n",
      " garchFit(formula = ~garch(1, 0), data = GAS$log_R, trace = F) \n",
      "\n",
      "Mean and Variance Equation:\n",
      " data ~ garch(1, 0)\n",
      "<environment: 0x0000000029a916c0>\n",
      " [data = GAS$log_R]\n",
      "\n",
      "Conditional Distribution:\n",
      " norm \n",
      "\n",
      "Coefficient(s):\n",
      "        mu       omega      alpha1  \n",
      "0.00037753  0.00033198  0.31355630  \n",
      "\n",
      "Std. Errors:\n",
      " based on Hessian \n",
      "\n",
      "Error Analysis:\n",
      "        Estimate  Std. Error  t value Pr(>|t|)    \n",
      "mu     3.775e-04   4.386e-04    0.861    0.389    \n",
      "omega  3.320e-04   1.356e-05   24.490   <2e-16 ***\n",
      "alpha1 3.136e-01   3.676e-02    8.529   <2e-16 ***\n",
      "---\n",
      "Signif. codes:  0 '***' 0.001 '**' 0.01 '*' 0.05 '.' 0.1 ' ' 1\n",
      "\n",
      "Log Likelihood:\n",
      " 5052.02    normalized:  2.451247 \n",
      "\n",
      "Description:\n",
      " Mon Oct 04 05:48:24 2021 by user: HP \n",
      "\n",
      "\n",
      "Standardised Residuals Tests:\n",
      "                                Statistic p-Value  \n",
      " Jarque-Bera Test   R    Chi^2  368.8769  0        \n",
      " Shapiro-Wilk Test  R    W      0.9689136 0        \n",
      " Ljung-Box Test     R    Q(10)  11.60911  0.3120687\n",
      " Ljung-Box Test     R    Q(15)  23.44559  0.0751265\n",
      " Ljung-Box Test     R    Q(20)  26.80034  0.1409754\n",
      " Ljung-Box Test     R^2  Q(10)  150.9498  0        \n",
      " Ljung-Box Test     R^2  Q(15)  198.2218  0        \n",
      " Ljung-Box Test     R^2  Q(20)  239.0358  0        \n",
      " LM Arch Test       R    TR^2   120.3961  0        \n",
      "\n",
      "Information Criterion Statistics:\n",
      "      AIC       BIC       SIC      HQIC \n",
      "-4.899582 -4.891386 -4.899587 -4.896577 \n",
      "\n"
     ]
    }
   ],
   "source": [
    "summary(model4)"
   ]
  },
  {
   "cell_type": "markdown",
   "id": "d9755b74",
   "metadata": {},
   "source": [
    "* dự báo "
   ]
  },
  {
   "cell_type": "code",
   "execution_count": 53,
   "id": "f63e3902",
   "metadata": {},
   "outputs": [
    {
     "data": {
      "text/html": [
       "<table class=\"dataframe\">\n",
       "<caption>A data.frame: 5 × 3</caption>\n",
       "<thead>\n",
       "\t<tr><th scope=col>meanForecast</th><th scope=col>meanError</th><th scope=col>standardDeviation</th></tr>\n",
       "\t<tr><th scope=col>&lt;dbl&gt;</th><th scope=col>&lt;dbl&gt;</th><th scope=col>&lt;dbl&gt;</th></tr>\n",
       "</thead>\n",
       "<tbody>\n",
       "\t<tr><td>0.0003775261</td><td>0.04044466</td><td>0.04044466</td></tr>\n",
       "\t<tr><td>0.0003775261</td><td>0.02906695</td><td>0.02906695</td></tr>\n",
       "\t<tr><td>0.0003775261</td><td>0.02443156</td><td>0.02443156</td></tr>\n",
       "\t<tr><td>0.0003775261</td><td>0.02278472</td><td>0.02278472</td></tr>\n",
       "\t<tr><td>0.0003775261</td><td>0.02224325</td><td>0.02224325</td></tr>\n",
       "</tbody>\n",
       "</table>\n"
      ],
      "text/latex": [
       "A data.frame: 5 × 3\n",
       "\\begin{tabular}{lll}\n",
       " meanForecast & meanError & standardDeviation\\\\\n",
       " <dbl> & <dbl> & <dbl>\\\\\n",
       "\\hline\n",
       "\t 0.0003775261 & 0.04044466 & 0.04044466\\\\\n",
       "\t 0.0003775261 & 0.02906695 & 0.02906695\\\\\n",
       "\t 0.0003775261 & 0.02443156 & 0.02443156\\\\\n",
       "\t 0.0003775261 & 0.02278472 & 0.02278472\\\\\n",
       "\t 0.0003775261 & 0.02224325 & 0.02224325\\\\\n",
       "\\end{tabular}\n"
      ],
      "text/markdown": [
       "\n",
       "A data.frame: 5 × 3\n",
       "\n",
       "| meanForecast &lt;dbl&gt; | meanError &lt;dbl&gt; | standardDeviation &lt;dbl&gt; |\n",
       "|---|---|---|\n",
       "| 0.0003775261 | 0.04044466 | 0.04044466 |\n",
       "| 0.0003775261 | 0.02906695 | 0.02906695 |\n",
       "| 0.0003775261 | 0.02443156 | 0.02443156 |\n",
       "| 0.0003775261 | 0.02278472 | 0.02278472 |\n",
       "| 0.0003775261 | 0.02224325 | 0.02224325 |\n",
       "\n"
      ],
      "text/plain": [
       "  meanForecast meanError  standardDeviation\n",
       "1 0.0003775261 0.04044466 0.04044466       \n",
       "2 0.0003775261 0.02906695 0.02906695       \n",
       "3 0.0003775261 0.02443156 0.02443156       \n",
       "4 0.0003775261 0.02278472 0.02278472       \n",
       "5 0.0003775261 0.02224325 0.02224325       "
      ]
     },
     "metadata": {},
     "output_type": "display_data"
    }
   ],
   "source": [
    "predict(model4, 5)"
   ]
  },
  {
   "cell_type": "markdown",
   "id": "1399887c",
   "metadata": {},
   "source": [
    "#### Garch:"
   ]
  },
  {
   "cell_type": "code",
   "execution_count": 54,
   "id": "d337d9fb",
   "metadata": {},
   "outputs": [
    {
     "name": "stderr",
     "output_type": "stream",
     "text": [
      "Warning message:\n",
      "\"Using formula(x) is deprecated when x is a character vector of length > 1.\n",
      "  Consider formula(paste(x, collapse = \" \")) instead.\"\n"
     ]
    }
   ],
   "source": [
    "model5 <- garchFit(~garch(1,1), data=GAS$log_R, trace = F) "
   ]
  },
  {
   "cell_type": "code",
   "execution_count": 55,
   "id": "ef2ab82b",
   "metadata": {},
   "outputs": [
    {
     "name": "stdout",
     "output_type": "stream",
     "text": [
      "\n",
      "Title:\n",
      " GARCH Modelling \n",
      "\n",
      "Call:\n",
      " garchFit(formula = ~garch(1, 1), data = GAS$log_R, trace = F) \n",
      "\n",
      "Mean and Variance Equation:\n",
      " data ~ garch(1, 1)\n",
      "<environment: 0x000000002a681578>\n",
      " [data = GAS$log_R]\n",
      "\n",
      "Conditional Distribution:\n",
      " norm \n",
      "\n",
      "Coefficient(s):\n",
      "        mu       omega      alpha1       beta1  \n",
      "5.5543e-04  2.7432e-05  1.2779e-01  8.1490e-01  \n",
      "\n",
      "Std. Errors:\n",
      " based on Hessian \n",
      "\n",
      "Error Analysis:\n",
      "        Estimate  Std. Error  t value Pr(>|t|)    \n",
      "mu     5.554e-04   4.089e-04    1.358    0.174    \n",
      "omega  2.743e-05   6.004e-06    4.569 4.90e-06 ***\n",
      "alpha1 1.278e-01   1.749e-02    7.307 2.72e-13 ***\n",
      "beta1  8.149e-01   2.544e-02   32.036  < 2e-16 ***\n",
      "---\n",
      "Signif. codes:  0 '***' 0.001 '**' 0.01 '*' 0.05 '.' 0.1 ' ' 1\n",
      "\n",
      "Log Likelihood:\n",
      " 5135.421    normalized:  2.491713 \n",
      "\n",
      "Description:\n",
      " Mon Oct 04 05:48:27 2021 by user: HP \n",
      "\n",
      "\n",
      "Standardised Residuals Tests:\n",
      "                                Statistic p-Value   \n",
      " Jarque-Bera Test   R    Chi^2  274.2207  0         \n",
      " Shapiro-Wilk Test  R    W      0.9777621 0         \n",
      " Ljung-Box Test     R    Q(10)  15.07712  0.1292753 \n",
      " Ljung-Box Test     R    Q(15)  23.60266  0.07215562\n",
      " Ljung-Box Test     R    Q(20)  24.71841  0.212417  \n",
      " Ljung-Box Test     R^2  Q(10)  9.553673  0.4804832 \n",
      " Ljung-Box Test     R^2  Q(15)  12.56775  0.6356453 \n",
      " Ljung-Box Test     R^2  Q(20)  13.63614  0.8484549 \n",
      " LM Arch Test       R    TR^2   10.2273   0.5960271 \n",
      "\n",
      "Information Criterion Statistics:\n",
      "      AIC       BIC       SIC      HQIC \n",
      "-4.979545 -4.968616 -4.979552 -4.975538 \n",
      "\n"
     ]
    }
   ],
   "source": [
    "summary(model5)"
   ]
  },
  {
   "cell_type": "markdown",
   "id": "14fa732e",
   "metadata": {},
   "source": [
    "#### urgarch:"
   ]
  },
  {
   "cell_type": "code",
   "execution_count": 56,
   "id": "d741e0c1",
   "metadata": {},
   "outputs": [],
   "source": [
    "model6 <- ugarchspec(mean.model = list(armaOrder = c(0,0)), variance.model = list(model = 'iGARCH', garchOrder = c(1,1)))"
   ]
  },
  {
   "cell_type": "code",
   "execution_count": 57,
   "id": "96fe0c85",
   "metadata": {},
   "outputs": [],
   "source": [
    "model61 <- ugarchfit(spec = model6, data = GAS$log_R)"
   ]
  },
  {
   "cell_type": "code",
   "execution_count": 58,
   "id": "4f4f7a40",
   "metadata": {},
   "outputs": [
    {
     "data": {
      "text/plain": [
       "\n",
       "*---------------------------------*\n",
       "*          GARCH Model Fit        *\n",
       "*---------------------------------*\n",
       "\n",
       "Conditional Variance Dynamics \t\n",
       "-----------------------------------\n",
       "GARCH Model\t: iGARCH(1,1)\n",
       "Mean Model\t: ARFIMA(0,0,0)\n",
       "Distribution\t: norm \n",
       "\n",
       "Optimal Parameters\n",
       "------------------------------------\n",
       "        Estimate  Std. Error  t value Pr(>|t|)\n",
       "mu      0.000540    0.000407   1.3275  0.18434\n",
       "omega   0.000013    0.000002   7.7502  0.00000\n",
       "alpha1  0.156836    0.014767  10.6204  0.00000\n",
       "beta1   0.843164          NA       NA       NA\n",
       "\n",
       "Robust Standard Errors:\n",
       "        Estimate  Std. Error  t value Pr(>|t|)\n",
       "mu      0.000540    0.000389   1.3884  0.16503\n",
       "omega   0.000013    0.000001   9.1162  0.00000\n",
       "alpha1  0.156836    0.018012   8.7072  0.00000\n",
       "beta1   0.843164          NA       NA       NA\n",
       "\n",
       "LogLikelihood : 5122.863 \n",
       "\n",
       "Information Criteria\n",
       "------------------------------------\n",
       "                    \n",
       "Akaike       -4.9683\n",
       "Bayes        -4.9601\n",
       "Shibata      -4.9683\n",
       "Hannan-Quinn -4.9653\n",
       "\n",
       "Weighted Ljung-Box Test on Standardized Residuals\n",
       "------------------------------------\n",
       "                        statistic   p-value\n",
       "Lag[1]                      12.44 0.0004207\n",
       "Lag[2*(p+q)+(p+q)-1][2]     12.55 0.0004046\n",
       "Lag[4*(p+q)+(p+q)-1][5]     13.24 0.0013095\n",
       "d.o.f=0\n",
       "H0 : No serial correlation\n",
       "\n",
       "Weighted Ljung-Box Test on Standardized Squared Residuals\n",
       "------------------------------------\n",
       "                        statistic p-value\n",
       "Lag[1]                      2.492  0.1144\n",
       "Lag[2*(p+q)+(p+q)-1][5]     4.620  0.1862\n",
       "Lag[4*(p+q)+(p+q)-1][9]     5.734  0.3300\n",
       "d.o.f=2\n",
       "\n",
       "Weighted ARCH LM Tests\n",
       "------------------------------------\n",
       "            Statistic Shape Scale P-Value\n",
       "ARCH Lag[3]     2.209 0.500 2.000  0.1372\n",
       "ARCH Lag[5]     3.604 1.440 1.667  0.2134\n",
       "ARCH Lag[7]     3.834 2.315 1.543  0.3711\n",
       "\n",
       "Nyblom stability test\n",
       "------------------------------------\n",
       "Joint Statistic:  4.0877\n",
       "Individual Statistics:              \n",
       "mu     0.11697\n",
       "omega  1.02302\n",
       "alpha1 0.06769\n",
       "\n",
       "Asymptotic Critical Values (10% 5% 1%)\n",
       "Joint Statistic:     \t 0.846 1.01 1.35\n",
       "Individual Statistic:\t 0.35 0.47 0.75\n",
       "\n",
       "Sign Bias Test\n",
       "------------------------------------\n",
       "                   t-value   prob sig\n",
       "Sign Bias            1.481 0.1388    \n",
       "Negative Sign Bias   1.618 0.1058    \n",
       "Positive Sign Bias   1.190 0.2340    \n",
       "Joint Effect         4.061 0.2550    \n",
       "\n",
       "\n",
       "Adjusted Pearson Goodness-of-Fit Test:\n",
       "------------------------------------\n",
       "  group statistic p-value(g-1)\n",
       "1    20     356.5    4.549e-64\n",
       "2    30     546.5    7.723e-97\n",
       "3    40     793.0   2.786e-141\n",
       "4    50    1029.2   1.402e-183\n",
       "\n",
       "\n",
       "Elapsed time : 0.1139541 \n"
      ]
     },
     "metadata": {},
     "output_type": "display_data"
    }
   ],
   "source": [
    "model61"
   ]
  },
  {
   "cell_type": "markdown",
   "id": "9e0c827c",
   "metadata": {},
   "source": [
    "## 5. ước lượng VaR:"
   ]
  },
  {
   "cell_type": "code",
   "execution_count": 74,
   "id": "6d88f5e1",
   "metadata": {},
   "outputs": [],
   "source": [
    "#install.packages('forecast', 'gridExtra')\n",
    "library(forecast)\n",
    "library(gridExtra)"
   ]
  },
  {
   "cell_type": "code",
   "execution_count": 75,
   "id": "7faaf3b2",
   "metadata": {},
   "outputs": [
    {
     "data": {
      "image/png": "[encoded data removed]",
      "text/plain": [
       "plot without title"
      ]
     },
     "metadata": {
      "image/png": {
       "height": 360,
       "width": 1080
      }
     },
     "output_type": "display_data"
    }
   ],
   "source": [
    "fig(18,6)\n",
    "t1 <- ggplot(GAS, aes(x=Date)) + geom_line(aes(y = log_R),\n",
    "                                color='#52ff83', alpha = 1) + ggtitle(\"GAS Return\") + geom_hline(yintercept = mean(GAS$log_R), \n",
    "                                color = '#ff5776' , size = 1) + theme_light()\n",
    "                                \n",
    "t2 <- ggplot(GAS, aes(x=log_R)) + \n",
    " geom_histogram(aes(y=..density..), colour=\"black\", alpha=0.5, fill='#52ff83', bins = 82)+\n",
    " geom_density(alpha=.2, fill=\"#905cb8\") + coord_flip() + geom_vline(xintercept = mean(GAS$log_R ) , \n",
    " color = '#ff5776' , size = 1) + ggtitle(\"GAS return distribution\") + theme_light()\n",
    "\n",
    "grid.arrange(t1 ,t2 , ncol = 2)\n"
   ]
  },
  {
   "cell_type": "markdown",
   "id": "f6655a97",
   "metadata": {},
   "source": [
    "### 5.1 Riskmetrics method :"
   ]
  },
  {
   "cell_type": "code",
   "execution_count": 76,
   "id": "e57acf9b",
   "metadata": {},
   "outputs": [],
   "source": [
    "GAS$neg_log_R = -GAS$log_R"
   ]
  },
  {
   "cell_type": "code",
   "execution_count": 62,
   "id": "8275a78a",
   "metadata": {},
   "outputs": [],
   "source": [
    "spec1 <- ugarchspec(mean.model = list(armaOrder = c(2, 0)), variance.model = list(model= 'iGARCH', garchOrder = c(1,1)))\n",
    "model11 = ugarchfit(spec=spec1, data = GAS$neg_log_R)"
   ]
  },
  {
   "cell_type": "code",
   "execution_count": 63,
   "id": "73b8b376",
   "metadata": {},
   "outputs": [
    {
     "name": "stderr",
     "output_type": "stream",
     "text": [
      "Warning message in `setfixed<-`(`*tmp*`, value = as.list(pars)):\n",
      "\"Unrecognized Parameter in Fixed Values: beta1...Ignored\"\n"
     ]
    },
    {
     "data": {
      "text/plain": [
       "\n",
       "*------------------------------------*\n",
       "*       GARCH Model Forecast         *\n",
       "*------------------------------------*\n",
       "Model: iGARCH\n",
       "Horizon: 1\n",
       "Roll Steps: 0\n",
       "Out of Sample: 0\n",
       "\n",
       "0-roll forecast [T0=1975-08-24 07:00:00]:\n",
       "       Series   Sigma\n",
       "T+1 -0.005597 0.03406\n",
       "\n"
      ]
     },
     "metadata": {},
     "output_type": "display_data"
    }
   ],
   "source": [
    "ugarchforecast(model11, n.ahead = 1)"
   ]
  },
  {
   "cell_type": "markdown",
   "id": "9064bd8a",
   "metadata": {},
   "source": [
    "$ => VaR_{95\\%} $ = 0 + 1.65 x 0.3406"
   ]
  },
  {
   "cell_type": "code",
   "execution_count": 64,
   "id": "0ecacb9e",
   "metadata": {},
   "outputs": [
    {
     "data": {
      "text/html": [
       "0.056199"
      ],
      "text/latex": [
       "0.056199"
      ],
      "text/markdown": [
       "0.056199"
      ],
      "text/plain": [
       "[1] 0.056199"
      ]
     },
     "metadata": {},
     "output_type": "display_data"
    }
   ],
   "source": [
    "0 + 1.65 * 0.03406"
   ]
  },
  {
   "cell_type": "markdown",
   "id": "2ac9a13d",
   "metadata": {},
   "source": [
    "### 5.2 Rmeasure :"
   ]
  },
  {
   "cell_type": "code",
   "execution_count": 65,
   "id": "836f93a0",
   "metadata": {},
   "outputs": [],
   "source": [
    "source('Rmeasure.R')"
   ]
  },
  {
   "cell_type": "code",
   "execution_count": 66,
   "id": "39178af6",
   "metadata": {},
   "outputs": [
    {
     "name": "stdout",
     "output_type": "stream",
     "text": [
      "\n",
      " Risk Measures for selected probabilities: \n",
      "      prob        VaR        ES\n",
      "[1,] 0.950 0.05602371 0.0702560\n",
      "[2,] 0.990 0.07923541 0.0907772\n",
      "[3,] 0.999 0.10525331 0.1146831\n"
     ]
    }
   ],
   "source": [
    "RMeasure(0, 0.03406)"
   ]
  },
  {
   "cell_type": "code",
   "execution_count": 110,
   "id": "551d6e8a",
   "metadata": {},
   "outputs": [
    {
     "data": {
      "text/html": [
       "-0.070256"
      ],
      "text/latex": [
       "-0.070256"
      ],
      "text/markdown": [
       "-0.070256"
      ],
      "text/plain": [
       "[1] -0.070256"
      ]
     },
     "metadata": {},
     "output_type": "display_data"
    }
   ],
   "source": [
    "VaR.hist1 <- -0.05602371\n",
    "ES.hist1 <- -0.0702560\n",
    "ES.hist1"
   ]
  },
  {
   "cell_type": "code",
   "execution_count": 134,
   "id": "9098c739",
   "metadata": {},
   "outputs": [],
   "source": [
    "fig(10,10)\n",
    "p2 <- ggplot(GAS, aes(x=log_R)) + \n",
    " geom_histogram(aes(y=..density..), colour=\"black\", alpha=0.5, fill='#FF6666', bins = 100)+\n",
    " geom_density(alpha=.2, fill=\"#905cb8\") + theme_light() \n",
    "p2 <- p2 + geom_vline(aes(xintercept = VaR.hist1), linetype = \"dashed\", size = 1, color = \"blue\") \n",
    "p2 <- p2 + geom_vline(aes(xintercept = ES.hist1), size = 1, color = \"blue\")\n",
    "p2 <- p2+annotate(\"text\", x = -0.048, y = 40, label = VaR.hist1)+annotate(\"text\", x=-0.048, y = 44, label = 'VaR 95%')\n",
    "p2 <- p2 +annotate(\"text\", x = -0.076, y = 40, label = ES.hist1)+annotate(\"text\", x=-0.076, y = 44, label = 'ES')\n",
    "p2 <- p2 + ggtitle('Rmeasure VaR')"
   ]
  },
  {
   "cell_type": "markdown",
   "id": "67314e79",
   "metadata": {},
   "source": [
    "### 5.2 quantile esti method :"
   ]
  },
  {
   "cell_type": "code",
   "execution_count": 67,
   "id": "b4361c91",
   "metadata": {},
   "outputs": [
    {
     "data": {
      "text/html": [
       "<strong>95%:</strong> 0.0378023646465351"
      ],
      "text/latex": [
       "\\textbf{95\\textbackslash{}\\%:} 0.0378023646465351"
      ],
      "text/markdown": [
       "**95%:** 0.0378023646465351"
      ],
      "text/plain": [
       "       95% \n",
       "0.03780236 "
      ]
     },
     "metadata": {},
     "output_type": "display_data"
    }
   ],
   "source": [
    "quantile(GAS$log_R, 0.95)"
   ]
  },
  {
   "cell_type": "code",
   "execution_count": 78,
   "id": "110c9cf6",
   "metadata": {},
   "outputs": [
    {
     "data": {
      "text/html": [
       "-0.0378023646465351"
      ],
      "text/latex": [
       "-0.0378023646465351"
      ],
      "text/markdown": [
       "-0.0378023646465351"
      ],
      "text/plain": [
       "[1] -0.03780236"
      ]
     },
     "metadata": {},
     "output_type": "display_data"
    }
   ],
   "source": [
    "(VaR.hist <- -quantile(GAS$log_R, probs = 0.95, \n",
    "    names = FALSE))"
   ]
  },
  {
   "cell_type": "code",
   "execution_count": 79,
   "id": "80151987",
   "metadata": {},
   "outputs": [
    {
     "data": {
      "text/html": [
       "-0.0571147727488161"
      ],
      "text/latex": [
       "-0.0571147727488161"
      ],
      "text/markdown": [
       "-0.0571147727488161"
      ],
      "text/plain": [
       "[1] -0.05711477"
      ]
     },
     "metadata": {},
     "output_type": "display_data"
    }
   ],
   "source": [
    "(ES.hist <- mean(GAS$log_R[GAS$log_R < VaR.hist]))"
   ]
  },
  {
   "cell_type": "code",
   "execution_count": 132,
   "id": "6a3eae12",
   "metadata": {},
   "outputs": [],
   "source": [
    "fig(10,5)\n",
    "p <- ggplot(GAS, aes(x=log_R)) + \n",
    " geom_histogram(aes(y=..density..), colour=\"black\", alpha=0.5, fill='#FF6666', bins = 100)+\n",
    " geom_density(alpha=.2, fill=\"#905cb8\") + theme_light() \n",
    "p <- p + geom_vline(aes(xintercept = VaR.hist), linetype = \"dashed\", size = 1, color = \"blue\") \n",
    "p <- p + geom_vline(aes(xintercept = ES.hist), size = 1, color = \"blue\")\n",
    "p <- p + annotate(\"text\", x = -0.02740, y = 40, label = VaR.hist) + annotate(\"text\", x = -0.02940, y = 44, label = 'VaR 95%')\n",
    "p <- p + annotate(\"text\", x = -0.067114, y = 40, label = ES.hist) + annotate(\"text\", x = -0.067114, y = 44, label = 'ES')\n",
    "p <- p + ggtitle('quantile esti method VaR')"
   ]
  },
  {
   "cell_type": "markdown",
   "id": "f77ea174",
   "metadata": {},
   "source": [
    "### 5.3 Monte carlo method :"
   ]
  },
  {
   "cell_type": "code",
   "execution_count": 91,
   "id": "d59b8ab9",
   "metadata": {},
   "outputs": [
    {
     "data": {
      "text/html": [
       "0.000268605191729178"
      ],
      "text/latex": [
       "0.000268605191729178"
      ],
      "text/markdown": [
       "0.000268605191729178"
      ],
      "text/plain": [
       "[1] 0.0002686052"
      ]
     },
     "metadata": {},
     "output_type": "display_data"
    }
   ],
   "source": [
    "mean1 <- mean(GAS$log_R)\n",
    "std1 <- sd(GAS$log_R)\n",
    "mean1"
   ]
  },
  {
   "cell_type": "code",
   "execution_count": 92,
   "id": "c523e6be",
   "metadata": {},
   "outputs": [
    {
     "data": {
      "text/html": [
       "0.0220337209442201"
      ],
      "text/latex": [
       "0.0220337209442201"
      ],
      "text/markdown": [
       "0.0220337209442201"
      ],
      "text/plain": [
       "[1] 0.02203372"
      ]
     },
     "metadata": {},
     "output_type": "display_data"
    }
   ],
   "source": [
    "std1"
   ]
  },
  {
   "cell_type": "code",
   "execution_count": 93,
   "id": "31b2961d",
   "metadata": {},
   "outputs": [],
   "source": [
    "set.seed(20)\n",
    "sim_monte_carlo <- rnorm(30000, mean=mean1, sd = std1)"
   ]
  },
  {
   "cell_type": "code",
   "execution_count": null,
   "id": "8126ebf9",
   "metadata": {},
   "outputs": [],
   "source": [
    "fig(15,6)\n",
    "p1 <- ggplot() + geom_histogram(color = 'black', aes(x=sim_monte_carlo),alpha=0.2, fill='#FF6666' ,bins = 82) +  theme_light()\n",
    "p1"
   ]
  },
  {
   "cell_type": "code",
   "execution_count": 136,
   "id": "f13e831b",
   "metadata": {},
   "outputs": [
    {
     "data": {
      "text/html": [
       "<strong>95%:</strong> 0.036734686894469"
      ],
      "text/latex": [
       "\\textbf{95\\textbackslash{}\\%:} 0.036734686894469"
      ],
      "text/markdown": [
       "**95%:** 0.036734686894469"
      ],
      "text/plain": [
       "       95% \n",
       "0.03673469 "
      ]
     },
     "metadata": {},
     "output_type": "display_data"
    }
   ],
   "source": [
    "quantile(sim_monte_carlo, 0.95)"
   ]
  },
  {
   "cell_type": "code",
   "execution_count": 138,
   "id": "6ee2d743",
   "metadata": {},
   "outputs": [
    {
     "data": {
      "text/html": [
       "-0.036734686894469"
      ],
      "text/latex": [
       "-0.036734686894469"
      ],
      "text/markdown": [
       "-0.036734686894469"
      ],
      "text/plain": [
       "[1] -0.03673469"
      ]
     },
     "metadata": {},
     "output_type": "display_data"
    },
    {
     "data": {
      "text/html": [
       "-0.0459296143191514"
      ],
      "text/latex": [
       "-0.0459296143191514"
      ],
      "text/markdown": [
       "-0.0459296143191514"
      ],
      "text/plain": [
       "[1] -0.04592961"
      ]
     },
     "metadata": {},
     "output_type": "display_data"
    }
   ],
   "source": [
    "(VaR.hist2 <- -quantile(sim_monte_carlo, probs = 0.95, \n",
    "    names = FALSE))\n",
    "\n",
    "(ES.hist2 <- mean(sim_monte_carlo[sim_monte_carlo < VaR.hist2]))"
   ]
  },
  {
   "cell_type": "code",
   "execution_count": 157,
   "id": "6a33daa0",
   "metadata": {},
   "outputs": [],
   "source": [
    "p3 <- ggplot(GAS, aes(x=log_R)) + \n",
    " geom_histogram(aes(y=..density..), colour=\"black\", alpha=0.5, fill='#FF6666', bins = 100)+\n",
    " geom_density(alpha=.2, fill=\"#905cb8\") + theme_light() \n",
    "p3 <- p3 + geom_vline(aes(xintercept = VaR.hist2), linetype = \"dashed\", size = 1, color = \"blue\") \n",
    "p3 <- p3 + geom_vline(aes(xintercept = ES.hist2), size = 1, color = \"blue\")\n",
    "p3 <- p3 + annotate(\"text\", x = -0.02640, y = 40, label = VaR.hist2) +annotate(\"text\", x = -0.02640, y = 44, label = 'VaR 95%')\n",
    "p3 <- p3 + annotate(\"text\", x = -0.061114, y = 40, label = ES.hist2) +annotate(\"text\", x = -0.061114, y = 44, label = 'ES')\n",
    "p3 <- p3 + ggtitle('Monte carlo method VaR')"
   ]
  },
  {
   "cell_type": "code",
   "execution_count": 158,
   "id": "ad11995b",
   "metadata": {},
   "outputs": [
    {
     "data": {
      "image/png": "[encoded data removed]",
      "text/plain": [
       "plot without title"
      ]
     },
     "metadata": {
      "image/png": {
       "height": 720,
       "width": 840
      }
     },
     "output_type": "display_data"
    }
   ],
   "source": [
    "fig(14, 12)\n",
    "grid.arrange(p ,p2, p3, nrow = 3)"
   ]
  },
  {
   "cell_type": "markdown",
   "id": "919a3275",
   "metadata": {},
   "source": [
    "***"
   ]
  }
 ],
 "metadata": {
  "hide_input": false,
  "kernelspec": {
   "display_name": "R",
   "language": "R",
   "name": "ir"
  },
  "language_info": {
   "codemirror_mode": "r",
   "file_extension": ".r",
   "mimetype": "text/x-r-source",
   "name": "R",
   "pygments_lexer": "r",
   "version": "4.0.5"
  },
  "varInspector": {
   "cols": {
    "lenName": 16,
    "lenType": 16,
    "lenVar": 40
   },
   "kernels_config": {
    "python": {
     "delete_cmd_postfix": "",
     "delete_cmd_prefix": "del ",
     "library": "var_list.py",
     "varRefreshCmd": "print(var_dic_list())"
    },
    "r": {
     "delete_cmd_postfix": ") ",
     "delete_cmd_prefix": "rm(",
     "library": "var_list.r",
     "varRefreshCmd": "cat(var_dic_list()) "
    }
   },
   "types_to_exclude": [
    "module",
    "function",
    "builtin_function_or_method",
    "instance",
    "_Feature"
   ],
   "window_display": false
  }
 },
 "nbformat": 4,
 "nbformat_minor": 5
}
