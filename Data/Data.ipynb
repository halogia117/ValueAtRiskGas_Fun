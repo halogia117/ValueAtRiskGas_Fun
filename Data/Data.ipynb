{
 "cells": [
  {
   "cell_type": "code",
   "execution_count": 27,
   "id": "014fa037",
   "metadata": {},
   "outputs": [],
   "source": [
    "import pandas as pd"
   ]
  },
  {
   "cell_type": "code",
   "execution_count": 13,
   "id": "6d1f4288",
   "metadata": {},
   "outputs": [],
   "source": [
    "stock_HNX = pd.read_csv('./CafeF.HNX.Upto07.10.2021.csv')\n",
    "stock_HSX = pd.read_csv('./CafeF.HSX.Upto07.10.2021.csv')\n",
    "stock_UPCOM = pd.read_csv('./CafeF.UPCOM.Upto07.10.2021.csv')"
   ]
  },
  {
   "cell_type": "code",
   "execution_count": 14,
   "id": "684b4fcb",
   "metadata": {},
   "outputs": [],
   "source": [
    "def get_stock(stock_namee):\n",
    "    Temp = stock_HSX[stock_HSX['<Ticker>'] == stock_namee]\n",
    "    Temp = Temp[['<DTYYYYMMDD>', '<Close>']]\n",
    "    Temp.columns = ['Date', 'Close']\n",
    "    Temp['Date'] = pd.to_datetime(Temp['Date'], format='%Y%m%d')\n",
    "    Temp = Temp.sort_values(by='Date', ascending=True)\n",
    "    Temp = Temp.reset_index()\n",
    "    Temp = Temp.drop('index', axis=1)\n",
    "    return Temp"
   ]
  },
  {
   "cell_type": "code",
   "execution_count": 15,
   "id": "41c72aef",
   "metadata": {},
   "outputs": [],
   "source": [
    "NKG = get_stock('NKG')\n",
    "DIG = get_stock('DIG')"
   ]
  },
  {
   "cell_type": "code",
   "execution_count": 16,
   "id": "fee6b6fc",
   "metadata": {},
   "outputs": [
    {
     "data": {
      "text/html": [
       "<div>\n",
       "<style scoped>\n",
       "    .dataframe tbody tr th:only-of-type {\n",
       "        vertical-align: middle;\n",
       "    }\n",
       "\n",
       "    .dataframe tbody tr th {\n",
       "        vertical-align: top;\n",
       "    }\n",
       "\n",
       "    .dataframe thead th {\n",
       "        text-align: right;\n",
       "    }\n",
       "</style>\n",
       "<table border=\"1\" class=\"dataframe\">\n",
       "  <thead>\n",
       "    <tr style=\"text-align: right;\">\n",
       "      <th></th>\n",
       "      <th>Date</th>\n",
       "      <th>Close</th>\n",
       "    </tr>\n",
       "  </thead>\n",
       "  <tbody>\n",
       "    <tr>\n",
       "      <th>0</th>\n",
       "      <td>2011-01-14</td>\n",
       "      <td>6.9423</td>\n",
       "    </tr>\n",
       "    <tr>\n",
       "      <th>1</th>\n",
       "      <td>2011-01-17</td>\n",
       "      <td>7.2674</td>\n",
       "    </tr>\n",
       "    <tr>\n",
       "      <th>2</th>\n",
       "      <td>2011-01-18</td>\n",
       "      <td>7.6156</td>\n",
       "    </tr>\n",
       "    <tr>\n",
       "      <th>3</th>\n",
       "      <td>2011-01-19</td>\n",
       "      <td>7.9871</td>\n",
       "    </tr>\n",
       "    <tr>\n",
       "      <th>4</th>\n",
       "      <td>2011-01-20</td>\n",
       "      <td>8.3122</td>\n",
       "    </tr>\n",
       "    <tr>\n",
       "      <th>...</th>\n",
       "      <td>...</td>\n",
       "      <td>...</td>\n",
       "    </tr>\n",
       "    <tr>\n",
       "      <th>2668</th>\n",
       "      <td>2021-10-01</td>\n",
       "      <td>44.8000</td>\n",
       "    </tr>\n",
       "    <tr>\n",
       "      <th>2669</th>\n",
       "      <td>2021-10-04</td>\n",
       "      <td>47.8000</td>\n",
       "    </tr>\n",
       "    <tr>\n",
       "      <th>2670</th>\n",
       "      <td>2021-10-05</td>\n",
       "      <td>47.4000</td>\n",
       "    </tr>\n",
       "    <tr>\n",
       "      <th>2671</th>\n",
       "      <td>2021-10-06</td>\n",
       "      <td>48.3000</td>\n",
       "    </tr>\n",
       "    <tr>\n",
       "      <th>2672</th>\n",
       "      <td>2021-10-07</td>\n",
       "      <td>48.2500</td>\n",
       "    </tr>\n",
       "  </tbody>\n",
       "</table>\n",
       "<p>2673 rows × 2 columns</p>\n",
       "</div>"
      ],
      "text/plain": [
       "           Date    Close\n",
       "0    2011-01-14   6.9423\n",
       "1    2011-01-17   7.2674\n",
       "2    2011-01-18   7.6156\n",
       "3    2011-01-19   7.9871\n",
       "4    2011-01-20   8.3122\n",
       "...         ...      ...\n",
       "2668 2021-10-01  44.8000\n",
       "2669 2021-10-04  47.8000\n",
       "2670 2021-10-05  47.4000\n",
       "2671 2021-10-06  48.3000\n",
       "2672 2021-10-07  48.2500\n",
       "\n",
       "[2673 rows x 2 columns]"
      ]
     },
     "execution_count": 16,
     "metadata": {},
     "output_type": "execute_result"
    }
   ],
   "source": [
    "NKG"
   ]
  },
  {
   "cell_type": "code",
   "execution_count": 17,
   "id": "09e9fa82",
   "metadata": {},
   "outputs": [
    {
     "data": {
      "text/html": [
       "<div>\n",
       "<style scoped>\n",
       "    .dataframe tbody tr th:only-of-type {\n",
       "        vertical-align: middle;\n",
       "    }\n",
       "\n",
       "    .dataframe tbody tr th {\n",
       "        vertical-align: top;\n",
       "    }\n",
       "\n",
       "    .dataframe thead th {\n",
       "        text-align: right;\n",
       "    }\n",
       "</style>\n",
       "<table border=\"1\" class=\"dataframe\">\n",
       "  <thead>\n",
       "    <tr style=\"text-align: right;\">\n",
       "      <th></th>\n",
       "      <th>Date</th>\n",
       "      <th>Close</th>\n",
       "    </tr>\n",
       "  </thead>\n",
       "  <tbody>\n",
       "    <tr>\n",
       "      <th>0</th>\n",
       "      <td>2009-08-19</td>\n",
       "      <td>11.9956</td>\n",
       "    </tr>\n",
       "    <tr>\n",
       "      <th>1</th>\n",
       "      <td>2009-08-20</td>\n",
       "      <td>12.5408</td>\n",
       "    </tr>\n",
       "    <tr>\n",
       "      <th>2</th>\n",
       "      <td>2009-08-21</td>\n",
       "      <td>13.0861</td>\n",
       "    </tr>\n",
       "    <tr>\n",
       "      <th>3</th>\n",
       "      <td>2009-08-24</td>\n",
       "      <td>13.7222</td>\n",
       "    </tr>\n",
       "    <tr>\n",
       "      <th>4</th>\n",
       "      <td>2009-08-25</td>\n",
       "      <td>14.3583</td>\n",
       "    </tr>\n",
       "    <tr>\n",
       "      <th>...</th>\n",
       "      <td>...</td>\n",
       "      <td>...</td>\n",
       "    </tr>\n",
       "    <tr>\n",
       "      <th>3024</th>\n",
       "      <td>2021-10-01</td>\n",
       "      <td>30.5000</td>\n",
       "    </tr>\n",
       "    <tr>\n",
       "      <th>3025</th>\n",
       "      <td>2021-10-04</td>\n",
       "      <td>30.0500</td>\n",
       "    </tr>\n",
       "    <tr>\n",
       "      <th>3026</th>\n",
       "      <td>2021-10-05</td>\n",
       "      <td>31.1000</td>\n",
       "    </tr>\n",
       "    <tr>\n",
       "      <th>3027</th>\n",
       "      <td>2021-10-06</td>\n",
       "      <td>33.2500</td>\n",
       "    </tr>\n",
       "    <tr>\n",
       "      <th>3028</th>\n",
       "      <td>2021-10-07</td>\n",
       "      <td>33.2500</td>\n",
       "    </tr>\n",
       "  </tbody>\n",
       "</table>\n",
       "<p>3029 rows × 2 columns</p>\n",
       "</div>"
      ],
      "text/plain": [
       "           Date    Close\n",
       "0    2009-08-19  11.9956\n",
       "1    2009-08-20  12.5408\n",
       "2    2009-08-21  13.0861\n",
       "3    2009-08-24  13.7222\n",
       "4    2009-08-25  14.3583\n",
       "...         ...      ...\n",
       "3024 2021-10-01  30.5000\n",
       "3025 2021-10-04  30.0500\n",
       "3026 2021-10-05  31.1000\n",
       "3027 2021-10-06  33.2500\n",
       "3028 2021-10-07  33.2500\n",
       "\n",
       "[3029 rows x 2 columns]"
      ]
     },
     "execution_count": 17,
     "metadata": {},
     "output_type": "execute_result"
    }
   ],
   "source": [
    "DIG"
   ]
  },
  {
   "cell_type": "code",
   "execution_count": 18,
   "id": "2d8fb20c",
   "metadata": {},
   "outputs": [],
   "source": [
    "DIG.to_csv('DIG.csv', header=True)"
   ]
  },
  {
   "cell_type": "code",
   "execution_count": 19,
   "id": "54dea976",
   "metadata": {},
   "outputs": [],
   "source": [
    "NKG.to_csv('NKG.csv', header=True)"
   ]
  },
  {
   "cell_type": "code",
   "execution_count": 40,
   "id": "72b7fa96",
   "metadata": {},
   "outputs": [],
   "source": [
    "GAS = get_stock('GAS')"
   ]
  },
  {
   "cell_type": "code",
   "execution_count": 58,
   "id": "bdeb0063",
   "metadata": {},
   "outputs": [],
   "source": [
    "GAS.to_csv('wGAS.csv', header=True)"
   ]
  },
  {
   "cell_type": "code",
   "execution_count": 42,
   "id": "f17fd20f",
   "metadata": {},
   "outputs": [],
   "source": [
    "import datetime as dt"
   ]
  },
  {
   "cell_type": "code",
   "execution_count": 43,
   "id": "4ee4505e",
   "metadata": {},
   "outputs": [],
   "source": [
    "GAS['weekday'] = GAS['Date'].dt.dayofweek"
   ]
  },
  {
   "cell_type": "code",
   "execution_count": 48,
   "id": "8e65cd2b",
   "metadata": {},
   "outputs": [],
   "source": [
    "GAS = GAS[GAS['weekday'] == 4]"
   ]
  },
  {
   "cell_type": "code",
   "execution_count": 49,
   "id": "37b40f22",
   "metadata": {},
   "outputs": [
    {
     "data": {
      "text/html": [
       "<div>\n",
       "<style scoped>\n",
       "    .dataframe tbody tr th:only-of-type {\n",
       "        vertical-align: middle;\n",
       "    }\n",
       "\n",
       "    .dataframe tbody tr th {\n",
       "        vertical-align: top;\n",
       "    }\n",
       "\n",
       "    .dataframe thead th {\n",
       "        text-align: right;\n",
       "    }\n",
       "</style>\n",
       "<table border=\"1\" class=\"dataframe\">\n",
       "  <thead>\n",
       "    <tr style=\"text-align: right;\">\n",
       "      <th></th>\n",
       "      <th>Date</th>\n",
       "      <th>Close</th>\n",
       "      <th>weekday</th>\n",
       "    </tr>\n",
       "  </thead>\n",
       "  <tbody>\n",
       "    <tr>\n",
       "      <th>4</th>\n",
       "      <td>2012-05-25</td>\n",
       "      <td>23.6234</td>\n",
       "      <td>4</td>\n",
       "    </tr>\n",
       "    <tr>\n",
       "      <th>9</th>\n",
       "      <td>2012-06-01</td>\n",
       "      <td>22.5331</td>\n",
       "      <td>4</td>\n",
       "    </tr>\n",
       "    <tr>\n",
       "      <th>14</th>\n",
       "      <td>2012-06-08</td>\n",
       "      <td>22.7148</td>\n",
       "      <td>4</td>\n",
       "    </tr>\n",
       "    <tr>\n",
       "      <th>19</th>\n",
       "      <td>2012-06-15</td>\n",
       "      <td>22.4725</td>\n",
       "      <td>4</td>\n",
       "    </tr>\n",
       "    <tr>\n",
       "      <th>24</th>\n",
       "      <td>2012-06-22</td>\n",
       "      <td>23.3811</td>\n",
       "      <td>4</td>\n",
       "    </tr>\n",
       "    <tr>\n",
       "      <th>...</th>\n",
       "      <td>...</td>\n",
       "      <td>...</td>\n",
       "      <td>...</td>\n",
       "    </tr>\n",
       "    <tr>\n",
       "      <th>2315</th>\n",
       "      <td>2021-08-27</td>\n",
       "      <td>87.0000</td>\n",
       "      <td>4</td>\n",
       "    </tr>\n",
       "    <tr>\n",
       "      <th>2323</th>\n",
       "      <td>2021-09-10</td>\n",
       "      <td>88.6000</td>\n",
       "      <td>4</td>\n",
       "    </tr>\n",
       "    <tr>\n",
       "      <th>2328</th>\n",
       "      <td>2021-09-17</td>\n",
       "      <td>91.9000</td>\n",
       "      <td>4</td>\n",
       "    </tr>\n",
       "    <tr>\n",
       "      <th>2333</th>\n",
       "      <td>2021-09-24</td>\n",
       "      <td>91.0000</td>\n",
       "      <td>4</td>\n",
       "    </tr>\n",
       "    <tr>\n",
       "      <th>2338</th>\n",
       "      <td>2021-10-01</td>\n",
       "      <td>103.5000</td>\n",
       "      <td>4</td>\n",
       "    </tr>\n",
       "  </tbody>\n",
       "</table>\n",
       "<p>470 rows × 3 columns</p>\n",
       "</div>"
      ],
      "text/plain": [
       "           Date     Close  weekday\n",
       "4    2012-05-25   23.6234        4\n",
       "9    2012-06-01   22.5331        4\n",
       "14   2012-06-08   22.7148        4\n",
       "19   2012-06-15   22.4725        4\n",
       "24   2012-06-22   23.3811        4\n",
       "...         ...       ...      ...\n",
       "2315 2021-08-27   87.0000        4\n",
       "2323 2021-09-10   88.6000        4\n",
       "2328 2021-09-17   91.9000        4\n",
       "2333 2021-09-24   91.0000        4\n",
       "2338 2021-10-01  103.5000        4\n",
       "\n",
       "[470 rows x 3 columns]"
      ]
     },
     "execution_count": 49,
     "metadata": {},
     "output_type": "execute_result"
    }
   ],
   "source": [
    "GAS"
   ]
  },
  {
   "cell_type": "code",
   "execution_count": 39,
   "id": "93b52fe8",
   "metadata": {},
   "outputs": [
    {
     "data": {
      "text/html": [
       "<div>\n",
       "<style scoped>\n",
       "    .dataframe tbody tr th:only-of-type {\n",
       "        vertical-align: middle;\n",
       "    }\n",
       "\n",
       "    .dataframe tbody tr th {\n",
       "        vertical-align: top;\n",
       "    }\n",
       "\n",
       "    .dataframe thead th {\n",
       "        text-align: right;\n",
       "    }\n",
       "</style>\n",
       "<table border=\"1\" class=\"dataframe\">\n",
       "  <thead>\n",
       "    <tr style=\"text-align: right;\">\n",
       "      <th></th>\n",
       "      <th>Date</th>\n",
       "      <th>Close</th>\n",
       "      <th>weekday</th>\n",
       "    </tr>\n",
       "  </thead>\n",
       "  <tbody>\n",
       "  </tbody>\n",
       "</table>\n",
       "</div>"
      ],
      "text/plain": [
       "Empty DataFrame\n",
       "Columns: [Date, Close, weekday]\n",
       "Index: []"
      ]
     },
     "execution_count": 39,
     "metadata": {},
     "output_type": "execute_result"
    }
   ],
   "source": [
    "GAS"
   ]
  },
  {
   "cell_type": "code",
   "execution_count": 56,
   "id": "9c19b0d6",
   "metadata": {},
   "outputs": [],
   "source": [
    "GAS = GAS.drop('index', axis = 1)"
   ]
  },
  {
   "cell_type": "code",
   "execution_count": 54,
   "id": "c6278a89",
   "metadata": {},
   "outputs": [],
   "source": [
    "GAS = GAS.reset_index()"
   ]
  },
  {
   "cell_type": "code",
   "execution_count": 57,
   "id": "dce3051a",
   "metadata": {},
   "outputs": [
    {
     "data": {
      "text/html": [
       "<div>\n",
       "<style scoped>\n",
       "    .dataframe tbody tr th:only-of-type {\n",
       "        vertical-align: middle;\n",
       "    }\n",
       "\n",
       "    .dataframe tbody tr th {\n",
       "        vertical-align: top;\n",
       "    }\n",
       "\n",
       "    .dataframe thead th {\n",
       "        text-align: right;\n",
       "    }\n",
       "</style>\n",
       "<table border=\"1\" class=\"dataframe\">\n",
       "  <thead>\n",
       "    <tr style=\"text-align: right;\">\n",
       "      <th></th>\n",
       "      <th>Date</th>\n",
       "      <th>Close</th>\n",
       "    </tr>\n",
       "  </thead>\n",
       "  <tbody>\n",
       "    <tr>\n",
       "      <th>0</th>\n",
       "      <td>2012-05-25</td>\n",
       "      <td>23.6234</td>\n",
       "    </tr>\n",
       "    <tr>\n",
       "      <th>1</th>\n",
       "      <td>2012-06-01</td>\n",
       "      <td>22.5331</td>\n",
       "    </tr>\n",
       "    <tr>\n",
       "      <th>2</th>\n",
       "      <td>2012-06-08</td>\n",
       "      <td>22.7148</td>\n",
       "    </tr>\n",
       "    <tr>\n",
       "      <th>3</th>\n",
       "      <td>2012-06-15</td>\n",
       "      <td>22.4725</td>\n",
       "    </tr>\n",
       "    <tr>\n",
       "      <th>4</th>\n",
       "      <td>2012-06-22</td>\n",
       "      <td>23.3811</td>\n",
       "    </tr>\n",
       "    <tr>\n",
       "      <th>...</th>\n",
       "      <td>...</td>\n",
       "      <td>...</td>\n",
       "    </tr>\n",
       "    <tr>\n",
       "      <th>465</th>\n",
       "      <td>2021-08-27</td>\n",
       "      <td>87.0000</td>\n",
       "    </tr>\n",
       "    <tr>\n",
       "      <th>466</th>\n",
       "      <td>2021-09-10</td>\n",
       "      <td>88.6000</td>\n",
       "    </tr>\n",
       "    <tr>\n",
       "      <th>467</th>\n",
       "      <td>2021-09-17</td>\n",
       "      <td>91.9000</td>\n",
       "    </tr>\n",
       "    <tr>\n",
       "      <th>468</th>\n",
       "      <td>2021-09-24</td>\n",
       "      <td>91.0000</td>\n",
       "    </tr>\n",
       "    <tr>\n",
       "      <th>469</th>\n",
       "      <td>2021-10-01</td>\n",
       "      <td>103.5000</td>\n",
       "    </tr>\n",
       "  </tbody>\n",
       "</table>\n",
       "<p>470 rows × 2 columns</p>\n",
       "</div>"
      ],
      "text/plain": [
       "          Date     Close\n",
       "0   2012-05-25   23.6234\n",
       "1   2012-06-01   22.5331\n",
       "2   2012-06-08   22.7148\n",
       "3   2012-06-15   22.4725\n",
       "4   2012-06-22   23.3811\n",
       "..         ...       ...\n",
       "465 2021-08-27   87.0000\n",
       "466 2021-09-10   88.6000\n",
       "467 2021-09-17   91.9000\n",
       "468 2021-09-24   91.0000\n",
       "469 2021-10-01  103.5000\n",
       "\n",
       "[470 rows x 2 columns]"
      ]
     },
     "execution_count": 57,
     "metadata": {},
     "output_type": "execute_result"
    }
   ],
   "source": [
    "GAS"
   ]
  },
  {
   "cell_type": "code",
   "execution_count": null,
   "id": "c434ddad",
   "metadata": {},
   "outputs": [],
   "source": []
  }
 ],
 "metadata": {
  "hide_input": false,
  "kernelspec": {
   "display_name": "Python 3 (ipykernel)",
   "language": "python",
   "name": "python3"
  },
  "language_info": {
   "codemirror_mode": {
    "name": "ipython",
    "version": 3
   },
   "file_extension": ".py",
   "mimetype": "text/x-python",
   "name": "python",
   "nbconvert_exporter": "python",
   "pygments_lexer": "ipython3",
   "version": "3.9.5"
  },
  "varInspector": {
   "cols": {
    "lenName": 16,
    "lenType": 16,
    "lenVar": 40
   },
   "kernels_config": {
    "python": {
     "delete_cmd_postfix": "",
     "delete_cmd_prefix": "del ",
     "library": "var_list.py",
     "varRefreshCmd": "print(var_dic_list())"
    },
    "r": {
     "delete_cmd_postfix": ") ",
     "delete_cmd_prefix": "rm(",
     "library": "var_list.r",
     "varRefreshCmd": "cat(var_dic_list()) "
    }
   },
   "types_to_exclude": [
    "module",
    "function",
    "builtin_function_or_method",
    "instance",
    "_Feature"
   ],
   "window_display": false
  }
 },
 "nbformat": 4,
 "nbformat_minor": 5
}
