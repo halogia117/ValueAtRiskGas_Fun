{
 "cells": [
  {
   "cell_type": "code",
   "execution_count": 1,
   "id": "c8bbe2d4",
   "metadata": {},
   "outputs": [
    {
     "name": "stdout",
     "output_type": "stream",
     "text": [
      "Requirement already satisfied: batdata in f:\\conda\\lib\\site-packages (0.1.0)\n",
      "Requirement already satisfied: pandas>=0.24.1 in f:\\conda\\lib\\site-packages (from batdata) (1.3.3)\n",
      "Requirement already satisfied: requests>=2.21.0 in f:\\conda\\lib\\site-packages (from batdata) (2.25.1)\n",
      "Requirement already satisfied: numpy>=1.17.3 in f:\\conda\\lib\\site-packages (from pandas>=0.24.1->batdata) (1.21.2)\n",
      "Requirement already satisfied: pytz>=2017.3 in f:\\conda\\lib\\site-packages (from pandas>=0.24.1->batdata) (2021.1)\n",
      "Requirement already satisfied: python-dateutil>=2.7.3 in f:\\conda\\lib\\site-packages (from pandas>=0.24.1->batdata) (2.8.2)\n",
      "Requirement already satisfied: six>=1.5 in f:\\conda\\lib\\site-packages (from python-dateutil>=2.7.3->pandas>=0.24.1->batdata) (1.16.0)\n",
      "Requirement already satisfied: idna<3,>=2.5 in f:\\conda\\lib\\site-packages (from requests>=2.21.0->batdata) (2.10)\n",
      "Requirement already satisfied: urllib3<1.27,>=1.21.1 in f:\\conda\\lib\\site-packages (from requests>=2.21.0->batdata) (1.26.6)\n",
      "Requirement already satisfied: chardet<5,>=3.0.2 in f:\\conda\\lib\\site-packages (from requests>=2.21.0->batdata) (4.0.0)\n",
      "Requirement already satisfied: certifi>=2017.4.17 in f:\\conda\\lib\\site-packages (from requests>=2.21.0->batdata) (2021.5.30)\n"
     ]
    }
   ],
   "source": [
    "!pip install batdata"
   ]
  },
  {
   "cell_type": "code",
   "execution_count": 2,
   "id": "8c3964da",
   "metadata": {},
   "outputs": [
    {
     "name": "stdout",
     "output_type": "stream",
     "text": [
      "Requirement already satisfied: investpy in f:\\conda\\lib\\site-packages (1.0.7)\n",
      "Requirement already satisfied: numpy>=1.17.2 in f:\\conda\\lib\\site-packages (from investpy) (1.21.2)\n",
      "Requirement already satisfied: requests>=2.22.0 in f:\\conda\\lib\\site-packages (from investpy) (2.25.1)\n",
      "Requirement already satisfied: setuptools>=41.2.0 in f:\\conda\\lib\\site-packages (from investpy) (52.0.0.post20210125)\n",
      "Requirement already satisfied: pytz>=2019.3 in f:\\conda\\lib\\site-packages (from investpy) (2021.1)\n",
      "Requirement already satisfied: Unidecode>=1.1.1 in f:\\conda\\lib\\site-packages (from investpy) (1.3.2)\n",
      "Requirement already satisfied: lxml>=4.4.1 in f:\\conda\\lib\\site-packages\\lxml-4.6.3-py3.9-win-amd64.egg (from investpy) (4.6.3)\n",
      "Requirement already satisfied: pandas>=0.25.1 in f:\\conda\\lib\\site-packages (from investpy) (1.3.3)\n",
      "Requirement already satisfied: python-dateutil>=2.7.3 in f:\\conda\\lib\\site-packages (from pandas>=0.25.1->investpy) (2.8.2)\n",
      "Requirement already satisfied: six>=1.5 in f:\\conda\\lib\\site-packages (from python-dateutil>=2.7.3->pandas>=0.25.1->investpy) (1.16.0)\n",
      "Requirement already satisfied: certifi>=2017.4.17 in f:\\conda\\lib\\site-packages (from requests>=2.22.0->investpy) (2021.5.30)\n",
      "Requirement already satisfied: urllib3<1.27,>=1.21.1 in f:\\conda\\lib\\site-packages (from requests>=2.22.0->investpy) (1.26.6)\n",
      "Requirement already satisfied: idna<3,>=2.5 in f:\\conda\\lib\\site-packages (from requests>=2.22.0->investpy) (2.10)\n",
      "Requirement already satisfied: chardet<5,>=3.0.2 in f:\\conda\\lib\\site-packages (from requests>=2.22.0->investpy) (4.0.0)\n"
     ]
    }
   ],
   "source": [
    "!pip install investpy"
   ]
  },
  {
   "cell_type": "code",
   "execution_count": 11,
   "id": "3be63a48",
   "metadata": {},
   "outputs": [],
   "source": [
    "import investpy"
   ]
  },
  {
   "cell_type": "code",
   "execution_count": 14,
   "id": "75ebdb19",
   "metadata": {},
   "outputs": [],
   "source": [
    "GAS = investpy.get_stock_historical_data(stock='GAS', country='vietnam', from_date='01/01/2010', to_date='04/10/2021')"
   ]
  },
  {
   "cell_type": "code",
   "execution_count": 16,
   "id": "2f6696ac",
   "metadata": {},
   "outputs": [],
   "source": [
    "GAS_close = GAS.Close"
   ]
  },
  {
   "cell_type": "code",
   "execution_count": 18,
   "id": "bb94207c",
   "metadata": {},
   "outputs": [],
   "source": [
    "GAS_close.to_csv('GAS.csv', header=True)"
   ]
  }
 ],
 "metadata": {
  "hide_input": false,
  "kernelspec": {
   "display_name": "Python 3 (ipykernel)",
   "language": "python",
   "name": "python3"
  },
  "language_info": {
   "codemirror_mode": {
    "name": "ipython",
    "version": 3
   },
   "file_extension": ".py",
   "mimetype": "text/x-python",
   "name": "python",
   "nbconvert_exporter": "python",
   "pygments_lexer": "ipython3",
   "version": "3.9.5"
  },
  "varInspector": {
   "cols": {
    "lenName": 16,
    "lenType": 16,
    "lenVar": 40
   },
   "kernels_config": {
    "python": {
     "delete_cmd_postfix": "",
     "delete_cmd_prefix": "del ",
     "library": "var_list.py",
     "varRefreshCmd": "print(var_dic_list())"
    },
    "r": {
     "delete_cmd_postfix": ") ",
     "delete_cmd_prefix": "rm(",
     "library": "var_list.r",
     "varRefreshCmd": "cat(var_dic_list()) "
    }
   },
   "types_to_exclude": [
    "module",
    "function",
    "builtin_function_or_method",
    "instance",
    "_Feature"
   ],
   "window_display": false
  }
 },
 "nbformat": 4,
 "nbformat_minor": 5
}
